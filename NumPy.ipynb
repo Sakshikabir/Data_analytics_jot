{
 "cells": [
  {
   "cell_type": "markdown",
   "id": "dcb91e71-9699-4c72-bb9b-e874cf806d02",
   "metadata": {},
   "source": [
    "<div style=\"background-color:#9F149F; padding: 10px; height: 70px; border-radius: 15px;\">\n",
    "    <div style=\"font-family: 'Georgia', serif; font-size: 20px;color: white; padding: 10px; text-align: right; position: absolute; right: 20px;\">\n",
    "        Sakshi <br>\n",
    "        <span style=\"font-family: 'Arial', sans-serif;font-size: 14px; color: white\">Data Analytics Trainee | AI/ML bootcamp</span> \n",
    "    </div>\n",
    "</div>"
   ]
  },
  {
   "cell_type": "markdown",
   "id": "e594618d-fdf7-42de-b79f-5ee772669f98",
   "metadata": {},
   "source": [
    "<div style=\"background-color: #400040 ; padding: 10px; text-align: center; color: white; font-size: 32px; font-family: 'Arial', sans-serif;\">\n",
    "    NumPy<br>\n",
    "    <h3 style=\"text-align: center; color: white; font-size: 15px; font-family: 'Arial', sans-serif;\">NumPy Library of Python</h3>\n",
    "</div>\n"
   ]
  },
  {
   "cell_type": "markdown",
   "id": "b44bcf3e-73c0-4dd5-9498-ea21e597faa4",
   "metadata": {},
   "source": [
    "**NumPy, short for Numerical Python, is an open-source Python library primarily used for numerical and scientific computing. At its core, NumPy provides the ndarray, which stands for N-dimensional array.**\n",
    "\n",
    "**The ndarray is a fast, efficient, multidimensional container of elements all of the same type (homogeneous). It allows storing and performing operations on large arrays and matrices, which are indexed by tuples of non-negative integers.**"
   ]
  },
  {
   "cell_type": "markdown",
   "id": "9dfc5427-153b-47a3-8fdf-623e58e75944",
   "metadata": {},
   "source": [
    "- Numerical Python -> core library for scientific computing in Python.\n",
    "- It provides:\n",
    "  - Efficient array storage and operations\n",
    "  - Fast mathematical functions\n",
    "  - Useful tools -> random, linear algebra, fourier series transformation"
   ]
  },
  {
   "cell_type": "markdown",
   "id": "d2449711-9258-41a8-ac27-47c4056db0f9",
   "metadata": {},
   "source": [
    "<div style=\"background-color: #502989; color: white ; padding: 4px;\">\n",
    "    <h3>Check if pip is installed\n",
    "</h3> </div> \n",
    "\n",
    "**pip --version**\n",
    " - PIP stands for \"Pip Installs Packages\" and is a package manager for Python.\n",
    "\n",
    " **Installing a packages:** pip install requests\n",
    "\n",
    " **Upgrading pip:** python -m pip install --upgrade pip"
   ]
  },
  {
   "cell_type": "markdown",
   "id": "8f0f6629-6647-460c-b700-bfb5915f6eaa",
   "metadata": {},
   "source": [
    "<div style=\"background-color:#502989 ; color: white; padding: 4px;\">\n",
    "    <h3>How to install numpy library?\n",
    "</h3> </div> \n",
    "\n",
    " - pip install numpy --> terminal\n"
   ]
  },
  {
   "cell_type": "markdown",
   "id": "9539672b-e778-4eab-a20d-4158265b6855",
   "metadata": {},
   "source": [
    "<div style=\"background-color:#502989; color: white; padding: 4px;\">\n",
    "    <h3>Importing NumPy\n",
    "</h3> </div> "
   ]
  },
  {
   "cell_type": "markdown",
   "id": "5a2c9285-8c93-47c2-a945-6079e27b956c",
   "metadata": {},
   "source": [
    " - To use NumPy, we need to import it into your Python code. The common convention is to import it as np:"
   ]
  },
  {
   "cell_type": "code",
   "execution_count": 1,
   "id": "eb228bcd-a4f9-4d7a-a4be-b16f55eaa729",
   "metadata": {},
   "outputs": [],
   "source": [
    "#  import library \n",
    "import numpy as np  #as is alias"
   ]
  },
  {
   "cell_type": "markdown",
   "id": "0759a2e7-a43c-4454-aad7-a1bd4f45a63b",
   "metadata": {},
   "source": [
    "<div style=\"background-color: #502989; color: white; padding: 4px;\">\n",
    "    <h3>Verifying the Installation\n",
    "</h3> </div> "
   ]
  },
  {
   "cell_type": "code",
   "execution_count": 2,
   "id": "6a3afa07-229a-4b5e-9a76-f6f23f92a06d",
   "metadata": {},
   "outputs": [
    {
     "name": "stdout",
     "output_type": "stream",
     "text": [
      "2.3.1\n"
     ]
    }
   ],
   "source": [
    "\n",
    "print(np.__version__) # checking numpy's version "
   ]
  },
  {
   "cell_type": "markdown",
   "id": "7dc07978-b931-4b58-9d88-454192d67458",
   "metadata": {},
   "source": [
    "<div style=\"background-color: skyblue; color: black; padding: 4px;\">\n",
    "    <h3>NumPy Array\n",
    "</h3> </div> \n"
   ]
  },
  {
   "cell_type": "markdown",
   "id": "338113b3-1f4b-4e73-931e-4b09d2032b96",
   "metadata": {},
   "source": [
    "**np.array()** is a function in the NumPy library that converts a Python list (or other array-like structure) into a NumPy ndarray (N-dimensional array) object."
   ]
  },
  {
   "cell_type": "markdown",
   "id": "85d8ca57-2140-4c2d-bd6f-86f539460a83",
   "metadata": {},
   "source": [
    "**Advantages of NumPy Arrays**\n",
    " - **Performance:**  NumPy arrays are faster than Python lists for numerical operations.\n",
    " - **Memory Efficiency:** Arrays use less memory as they store elements of the same data type.\n",
    " - **Convenience:** NumPy provides built-in functions for complex operations, making code concise and readable.\n"
   ]
  },
  {
   "cell_type": "markdown",
   "id": "9b82629f-2ef4-4052-be49-6fbab7fbd27f",
   "metadata": {},
   "source": [
    "<div style=\"background-color: skyblue; color: black; padding: 4px;\">\n",
    "    <h3>Why use numpy array instead of list\n",
    "</h3> </div> "
   ]
  },
  {
   "cell_type": "markdown",
   "id": "1b34126d-82f8-4045-a1ba-41bced00e870",
   "metadata": {},
   "source": [
    "**NumPy arrays are ideal for numerical computations due to their speed, efficiency, and rich functionality, while Python lists are more general-purpose and flexible for non-numerical tasks.**"
   ]
  },
  {
   "cell_type": "code",
   "execution_count": 103,
   "id": "01dda069-a46f-49a8-a21f-9c21b9ef800a",
   "metadata": {},
   "outputs": [],
   "source": [
    "l1 = [1,2,3,4,5,6]\n",
    "arr1 = np.array(l1)"
   ]
  },
  {
   "cell_type": "markdown",
   "id": "21f049ec-fc74-4141-ba12-e2573a4de5c9",
   "metadata": {},
   "source": [
    "<div style=\"background-color: skyblue; color: black; padding: 4px;\">\n",
    "    <h3>Creating  1-D Array \n",
    "</h3> </div> "
   ]
  },
  {
   "cell_type": "code",
   "execution_count": 3,
   "id": "54a44225-81cc-43e2-b688-c74cd1d7c939",
   "metadata": {},
   "outputs": [
    {
     "data": {
      "text/plain": [
       "array([1, 2, 3, 4, 5, 6])"
      ]
     },
     "execution_count": 3,
     "metadata": {},
     "output_type": "execute_result"
    }
   ],
   "source": [
    "#creates a NumPy array named arr1 from a Python list.\n",
    "arr1 = np.array([1,2,3,4,5,6])\n",
    "arr1\n"
   ]
  },
  {
   "cell_type": "markdown",
   "id": "b1746b84-7d67-4207-9285-f095a7048000",
   "metadata": {},
   "source": [
    "<div style=\"background-color: skyblue; color: black; padding: 4px;\">\n",
    "    <h3>Array Attributes\n",
    "</h3> </div> \n",
    "\n",
    "**NumPy arrays have several important attributes:**"
   ]
  },
  {
   "cell_type": "code",
   "execution_count": 4,
   "id": "bc520c71-3c23-48ea-973b-88eecf35b454",
   "metadata": {},
   "outputs": [
    {
     "data": {
      "text/plain": [
       "np.int64(3)"
      ]
     },
     "execution_count": 4,
     "metadata": {},
     "output_type": "execute_result"
    }
   ],
   "source": [
    "arr1[2]"
   ]
  },
  {
   "cell_type": "code",
   "execution_count": 5,
   "id": "a8723277-3bf6-4f4c-a39f-ecb217eb4e71",
   "metadata": {},
   "outputs": [
    {
     "name": "stdout",
     "output_type": "stream",
     "text": [
      "2\n"
     ]
    }
   ],
   "source": [
    "print(arr1[1])"
   ]
  },
  {
   "cell_type": "code",
   "execution_count": 6,
   "id": "2197bfb2-a8b6-4fe1-af58-aa2271aa827b",
   "metadata": {},
   "outputs": [
    {
     "data": {
      "text/plain": [
       "numpy.ndarray"
      ]
     },
     "execution_count": 6,
     "metadata": {},
     "output_type": "execute_result"
    }
   ],
   "source": [
    "#check type of arr1\n",
    "type(arr1) "
   ]
  },
  {
   "cell_type": "code",
   "execution_count": 7,
   "id": "ea58b45a-1131-4438-be93-5b8b8d715ab6",
   "metadata": {},
   "outputs": [
    {
     "data": {
      "text/plain": [
       "6"
      ]
     },
     "execution_count": 7,
     "metadata": {},
     "output_type": "execute_result"
    }
   ],
   "source": [
    " #total number of elements\n",
    "arr1.size"
   ]
  },
  {
   "cell_type": "code",
   "execution_count": 8,
   "id": "441b4ea1-81c4-4cd8-bed2-160945457cc3",
   "metadata": {},
   "outputs": [
    {
     "data": {
      "text/plain": [
       "(6,)"
      ]
     },
     "execution_count": 8,
     "metadata": {},
     "output_type": "execute_result"
    }
   ],
   "source": [
    "#shape\n",
    "arr1.shape "
   ]
  },
  {
   "cell_type": "code",
   "execution_count": 9,
   "id": "363eea11-bd69-4d04-9897-461934243e89",
   "metadata": {},
   "outputs": [
    {
     "data": {
      "text/plain": [
       "1"
      ]
     },
     "execution_count": 9,
     "metadata": {},
     "output_type": "execute_result"
    }
   ],
   "source": [
    "#check number of dimensions\n",
    "arr1.ndim "
   ]
  },
  {
   "cell_type": "markdown",
   "id": "914c7576-27ca-4bf5-8490-13d784a4a448",
   "metadata": {},
   "source": [
    "### 1-D Vs 2-D lists "
   ]
  },
  {
   "cell_type": "code",
   "execution_count": 10,
   "id": "a07c7586-f1cc-4d66-872c-4f0882524f87",
   "metadata": {},
   "outputs": [
    {
     "data": {
      "text/plain": [
       "[1, 2, 3, 4, 5]"
      ]
     },
     "execution_count": 10,
     "metadata": {},
     "output_type": "execute_result"
    }
   ],
   "source": [
    "\n",
    "lists = [1,2,3,4,5]\n",
    "list2 = [[1,2,3,4,5],[6,7,8,9,10]]\n",
    "lists\n",
    "#list\n",
    "\n"
   ]
  },
  {
   "cell_type": "code",
   "execution_count": 11,
   "id": "0c4fa1cd-db61-4ffe-a907-c3613084dab1",
   "metadata": {},
   "outputs": [
    {
     "data": {
      "text/plain": [
       "[[1, 2, 3, 4, 5], [6, 7, 8, 9, 10]]"
      ]
     },
     "execution_count": 11,
     "metadata": {},
     "output_type": "execute_result"
    }
   ],
   "source": [
    "lists = [1,2,3,4,5]\n",
    "list2 = [[1,2,3,4,5],[6,7,8,9,10]]\n",
    "list2\n",
    "#list2"
   ]
  },
  {
   "cell_type": "markdown",
   "id": "5d31830f-6b5c-4072-8f4d-78898a9d8c86",
   "metadata": {},
   "source": [
    "<div style=\"background-color: skyblue; color: black; padding: 4px;\">\n",
    "    <h3>Creating  2-D Array \n",
    "</h3> </div> "
   ]
  },
  {
   "cell_type": "code",
   "execution_count": 12,
   "id": "abc80e92-3787-4959-8506-383a89ef001b",
   "metadata": {},
   "outputs": [
    {
     "data": {
      "text/plain": [
       "array([[1, 2, 3, 4],\n",
       "       [5, 6, 7, 8]])"
      ]
     },
     "execution_count": 12,
     "metadata": {},
     "output_type": "execute_result"
    }
   ],
   "source": [
    "arr2 = np.array([[1,2,3,4],[5,6,7,8]])  #create aar2 \n",
    "arr2 #print arr2"
   ]
  },
  {
   "cell_type": "code",
   "execution_count": 13,
   "id": "50fdecbb-f7f5-4387-a06a-8f283fe4892e",
   "metadata": {},
   "outputs": [
    {
     "data": {
      "text/plain": [
       "8"
      ]
     },
     "execution_count": 13,
     "metadata": {},
     "output_type": "execute_result"
    }
   ],
   "source": [
    "arr2.size #size"
   ]
  },
  {
   "cell_type": "code",
   "execution_count": 14,
   "id": "7b695a9a-6667-4f4b-9f50-0961164d0176",
   "metadata": {},
   "outputs": [
    {
     "data": {
      "text/plain": [
       "2"
      ]
     },
     "execution_count": 14,
     "metadata": {},
     "output_type": "execute_result"
    }
   ],
   "source": [
    "arr2.ndim # number of dimensions"
   ]
  },
  {
   "cell_type": "code",
   "execution_count": 15,
   "id": "9883ca37-5eca-4079-ba7f-331852cbd834",
   "metadata": {},
   "outputs": [
    {
     "data": {
      "text/plain": [
       "dtype('int64')"
      ]
     },
     "execution_count": 15,
     "metadata": {},
     "output_type": "execute_result"
    }
   ],
   "source": [
    "arr2.dtype #type"
   ]
  },
  {
   "cell_type": "code",
   "execution_count": 16,
   "id": "2ec296ae-d1e8-48b8-95a0-fe7b4473a691",
   "metadata": {},
   "outputs": [
    {
     "data": {
      "text/plain": [
       "numpy.ndarray"
      ]
     },
     "execution_count": 16,
     "metadata": {},
     "output_type": "execute_result"
    }
   ],
   "source": [
    "type(arr2)"
   ]
  },
  {
   "cell_type": "markdown",
   "id": "a6d9bec5-448c-4a0d-aa32-c634e58710e0",
   "metadata": {},
   "source": [
    "<div style=\"background-color: skyblue; color: black; padding: 4px;\">\n",
    "    <h3>Arrays for all zeros \n",
    "</h3> </div> "
   ]
  },
  {
   "cell_type": "code",
   "execution_count": 17,
   "id": "54278e89-d3fa-47d7-bc71-295c7430a834",
   "metadata": {},
   "outputs": [
    {
     "data": {
      "text/plain": [
       "array([[0., 0., 0.],\n",
       "       [0., 0., 0.]])"
      ]
     },
     "execution_count": 17,
     "metadata": {},
     "output_type": "execute_result"
    }
   ],
   "source": [
    "# Array fo all 0's\n",
    "\n",
    "np.zeros((2,3))"
   ]
  },
  {
   "cell_type": "code",
   "execution_count": 18,
   "id": "d50ff7ac-e62c-44c9-aa4e-ec79adca0854",
   "metadata": {},
   "outputs": [
    {
     "data": {
      "text/plain": [
       "array([0., 0., 0.])"
      ]
     },
     "execution_count": 18,
     "metadata": {},
     "output_type": "execute_result"
    }
   ],
   "source": [
    "np.zeros(3)"
   ]
  },
  {
   "cell_type": "code",
   "execution_count": 19,
   "id": "f47c7cbb-05ca-48d9-a858-761afd0b08ab",
   "metadata": {},
   "outputs": [
    {
     "data": {
      "text/plain": [
       "array([[[0., 0., 0., 0.],\n",
       "        [0., 0., 0., 0.],\n",
       "        [0., 0., 0., 0.]],\n",
       "\n",
       "       [[0., 0., 0., 0.],\n",
       "        [0., 0., 0., 0.],\n",
       "        [0., 0., 0., 0.]]])"
      ]
     },
     "execution_count": 19,
     "metadata": {},
     "output_type": "execute_result"
    }
   ],
   "source": [
    "np.zeros((2,3,4))"
   ]
  },
  {
   "cell_type": "markdown",
   "id": "ae945a58-b24e-49a6-978a-0eb7f321ff53",
   "metadata": {},
   "source": [
    "<div style=\"background-color: skyblue; color: black; padding: 4px;\">\n",
    "    <h3>Arrays for all ones\n",
    "</h3> </div> "
   ]
  },
  {
   "cell_type": "code",
   "execution_count": 20,
   "id": "4ffbd972-96fe-4d65-a7b5-b1e5d097a1f1",
   "metadata": {},
   "outputs": [
    {
     "data": {
      "text/plain": [
       "array([[1., 1., 1.],\n",
       "       [1., 1., 1.],\n",
       "       [1., 1., 1.]])"
      ]
     },
     "execution_count": 20,
     "metadata": {},
     "output_type": "execute_result"
    }
   ],
   "source": [
    "np.ones((3,3))"
   ]
  },
  {
   "cell_type": "code",
   "execution_count": 21,
   "id": "0f01bed8-882a-4de6-9010-ae099adb98b2",
   "metadata": {},
   "outputs": [
    {
     "data": {
      "text/plain": [
       "array([[1., 1., 1., 1.],\n",
       "       [1., 1., 1., 1.],\n",
       "       [1., 1., 1., 1.]])"
      ]
     },
     "execution_count": 21,
     "metadata": {},
     "output_type": "execute_result"
    }
   ],
   "source": [
    "np.ones((3,4))"
   ]
  },
  {
   "cell_type": "code",
   "execution_count": 22,
   "id": "f6d3d97a-5f15-44fc-865a-9d6dbc4f1029",
   "metadata": {},
   "outputs": [
    {
     "data": {
      "text/plain": [
       "array([[1., 1., 1.],\n",
       "       [1., 1., 1.]])"
      ]
     },
     "execution_count": 22,
     "metadata": {},
     "output_type": "execute_result"
    }
   ],
   "source": [
    "np.ones((2,3))"
   ]
  },
  {
   "cell_type": "code",
   "execution_count": 23,
   "id": "b4cb9406-e249-4cb5-9160-c7bc6c656118",
   "metadata": {},
   "outputs": [
    {
     "data": {
      "text/plain": [
       "array([[1., 1., 1., 1., 1.],\n",
       "       [1., 1., 1., 1., 1.],\n",
       "       [1., 1., 1., 1., 1.]])"
      ]
     },
     "execution_count": 23,
     "metadata": {},
     "output_type": "execute_result"
    }
   ],
   "source": [
    "np.ones((3,5))"
   ]
  },
  {
   "cell_type": "code",
   "execution_count": 24,
   "id": "ff73a02b-cd6f-49a1-a097-dcef0891a372",
   "metadata": {},
   "outputs": [
    {
     "data": {
      "text/plain": [
       "array([[1., 1., 1.],\n",
       "       [1., 1., 1.],\n",
       "       [1., 1., 1.],\n",
       "       [1., 1., 1.],\n",
       "       [1., 1., 1.]])"
      ]
     },
     "execution_count": 24,
     "metadata": {},
     "output_type": "execute_result"
    }
   ],
   "source": [
    "np.ones((5,3))"
   ]
  },
  {
   "cell_type": "markdown",
   "id": "2a75ed10-bd61-438f-9720-b2885ec2e06e",
   "metadata": {},
   "source": [
    "<div style=\"background-color: skyblue; color: black; padding: 4px;\">\n",
    "    <h3>Identity Matrix\n",
    "</h3> </div> "
   ]
  },
  {
   "cell_type": "code",
   "execution_count": 25,
   "id": "27c8a1f2-402d-4691-a9f9-1923654cc8b9",
   "metadata": {},
   "outputs": [
    {
     "data": {
      "text/plain": [
       "array([[1., 0., 0., 0.],\n",
       "       [0., 1., 0., 0.],\n",
       "       [0., 0., 1., 0.],\n",
       "       [0., 0., 0., 1.]])"
      ]
     },
     "execution_count": 25,
     "metadata": {},
     "output_type": "execute_result"
    }
   ],
   "source": [
    "np.eye(4)"
   ]
  },
  {
   "cell_type": "code",
   "execution_count": 26,
   "id": "f38ebf02-876d-43b7-b208-01b5d214ef8a",
   "metadata": {},
   "outputs": [
    {
     "data": {
      "text/plain": [
       "array([[1., 0.],\n",
       "       [0., 1.]])"
      ]
     },
     "execution_count": 26,
     "metadata": {},
     "output_type": "execute_result"
    }
   ],
   "source": [
    "np.eye(2)"
   ]
  },
  {
   "cell_type": "code",
   "execution_count": 27,
   "id": "c0d2a131-61de-4cf8-ab9e-50d8a21a54af",
   "metadata": {},
   "outputs": [
    {
     "data": {
      "text/plain": [
       "array([[1., 0., 0., 0., 0.],\n",
       "       [0., 1., 0., 0., 0.],\n",
       "       [0., 0., 1., 0., 0.],\n",
       "       [0., 0., 0., 1., 0.],\n",
       "       [0., 0., 0., 0., 1.]])"
      ]
     },
     "execution_count": 27,
     "metadata": {},
     "output_type": "execute_result"
    }
   ],
   "source": [
    "np.eye(5)"
   ]
  },
  {
   "cell_type": "code",
   "execution_count": 28,
   "id": "af207cf6-81d8-4c87-8a55-63f0594edc2a",
   "metadata": {},
   "outputs": [
    {
     "data": {
      "text/plain": [
       "array([[1., 0., 0.],\n",
       "       [0., 1., 0.],\n",
       "       [0., 0., 1.]])"
      ]
     },
     "execution_count": 28,
     "metadata": {},
     "output_type": "execute_result"
    }
   ],
   "source": [
    "np.eye(3)"
   ]
  },
  {
   "cell_type": "markdown",
   "id": "9704c904-d4dc-474c-89bb-385e741e0e27",
   "metadata": {},
   "source": [
    "<div style=\"background-color: skyblue; color: black; padding: 4px;\">\n",
    "    <h3>Full Array\n",
    "</h3> </div> "
   ]
  },
  {
   "cell_type": "code",
   "execution_count": 29,
   "id": "a1954914-efd8-4ed4-a144-ea72bdde6eb9",
   "metadata": {},
   "outputs": [
    {
     "data": {
      "text/plain": [
       "array([[7, 7],\n",
       "       [7, 7]])"
      ]
     },
     "execution_count": 29,
     "metadata": {},
     "output_type": "execute_result"
    }
   ],
   "source": [
    "np.full((2,2),7)"
   ]
  },
  {
   "cell_type": "markdown",
   "id": "5e3edce6-c544-4bac-b182-0aae9f99be07",
   "metadata": {},
   "source": [
    "<div style=\"background-color: skyblue; color: black; padding: 4px;\">\n",
    "    <h3>Arrange\n",
    "</h3> </div> "
   ]
  },
  {
   "cell_type": "code",
   "execution_count": 30,
   "id": "a9c9cd4e-24c6-4712-bffa-969eacd691c5",
   "metadata": {},
   "outputs": [
    {
     "data": {
      "text/plain": [
       "array([0, 2, 4, 6, 8])"
      ]
     },
     "execution_count": 30,
     "metadata": {},
     "output_type": "execute_result"
    }
   ],
   "source": [
    "# Create a array of evenly spaced intervals elements\n",
    "np.arange(0,10,2)"
   ]
  },
  {
   "cell_type": "code",
   "execution_count": 31,
   "id": "e0ddb56f-9302-4d78-a4df-a1697eacad16",
   "metadata": {},
   "outputs": [
    {
     "data": {
      "text/plain": [
       "array([ 0,  2,  4,  6,  8, 10, 12, 14, 16, 18, 20, 22, 24, 26, 28])"
      ]
     },
     "execution_count": 31,
     "metadata": {},
     "output_type": "execute_result"
    }
   ],
   "source": [
    "np.arange(0,30,2)"
   ]
  },
  {
   "cell_type": "code",
   "execution_count": 32,
   "id": "eb8c69f3-6209-4af4-9804-eb1b28441cfa",
   "metadata": {},
   "outputs": [
    {
     "data": {
      "text/plain": [
       "array([ 0,  3,  6,  9, 12, 15, 18, 21, 24, 27, 30, 33, 36, 39, 42, 45, 48])"
      ]
     },
     "execution_count": 32,
     "metadata": {},
     "output_type": "execute_result"
    }
   ],
   "source": [
    "np.arange(0,50,3)"
   ]
  },
  {
   "cell_type": "markdown",
   "id": "a7c52a8e-2775-4e9d-93bf-7851d4f68fae",
   "metadata": {},
   "source": [
    "<div style=\"background-color: skyblue; color: black; padding: 4px;\">\n",
    "    <h3>Using linspace\n",
    "</h3> </div> "
   ]
  },
  {
   "cell_type": "code",
   "execution_count": 33,
   "id": "1217d6b7-534f-48e4-88da-21f5c4123fa8",
   "metadata": {},
   "outputs": [
    {
     "data": {
      "text/plain": [
       "array([0.  , 0.25, 0.5 , 0.75, 1.  ])"
      ]
     },
     "execution_count": 33,
     "metadata": {},
     "output_type": "execute_result"
    }
   ],
   "source": [
    "# Create an array with values that are spaced linearly in a specified interval\n",
    "np.linspace(0,1,5)"
   ]
  },
  {
   "cell_type": "code",
   "execution_count": 34,
   "id": "8c25e56f-8c35-415d-b762-d43ce5c1f329",
   "metadata": {},
   "outputs": [
    {
     "data": {
      "text/plain": [
       "array([0.        , 0.16666667, 0.33333333, 0.5       , 0.66666667,\n",
       "       0.83333333, 1.        , 1.16666667, 1.33333333, 1.5       ])"
      ]
     },
     "execution_count": 34,
     "metadata": {},
     "output_type": "execute_result"
    }
   ],
   "source": [
    "np.linspace(0,1.5,10)"
   ]
  },
  {
   "cell_type": "code",
   "execution_count": 35,
   "id": "0b4193c5-fbba-4523-adbc-00b1d6ba83f6",
   "metadata": {},
   "outputs": [
    {
     "data": {
      "text/plain": [
       "array([0.        , 0.11111111, 0.22222222, 0.33333333, 0.44444444,\n",
       "       0.55555556, 0.66666667, 0.77777778, 0.88888889, 1.        ])"
      ]
     },
     "execution_count": 35,
     "metadata": {},
     "output_type": "execute_result"
    }
   ],
   "source": [
    "np.linspace(0,1,10)"
   ]
  },
  {
   "cell_type": "code",
   "execution_count": 36,
   "id": "8ef83dda-30d0-4e2c-98a7-ba4b60943954",
   "metadata": {},
   "outputs": [
    {
     "data": {
      "text/plain": [
       "array([ 0.,  4.,  8., 12., 16., 20.])"
      ]
     },
     "execution_count": 36,
     "metadata": {},
     "output_type": "execute_result"
    }
   ],
   "source": [
    "np.linspace(0, 20, num=6)"
   ]
  },
  {
   "cell_type": "markdown",
   "id": "c6277f49-c8fa-4990-a7c6-69dccc22f7d1",
   "metadata": {},
   "source": [
    "<div style=\"background-color: skyblue; color: black; padding: 4px;\">\n",
    "    <h3>Indexing and Slicing\n",
    "</h3> </div> "
   ]
  },
  {
   "cell_type": "code",
   "execution_count": 37,
   "id": "3d8db487-cc0f-4546-a494-7d9cea456b9b",
   "metadata": {},
   "outputs": [
    {
     "data": {
      "text/plain": [
       "array([[10, 20, 30],\n",
       "       [40, 50, 60]])"
      ]
     },
     "execution_count": 37,
     "metadata": {},
     "output_type": "execute_result"
    }
   ],
   "source": [
    "# Indexing and Slicing\n",
    "arr3 = np.array([[10,20,30],[40,50,60]])\n",
    "arr3"
   ]
  },
  {
   "cell_type": "code",
   "execution_count": 38,
   "id": "e2f0ab6d-a320-45d2-8301-6a29c2877c83",
   "metadata": {},
   "outputs": [
    {
     "name": "stdout",
     "output_type": "stream",
     "text": [
      "60\n"
     ]
    }
   ],
   "source": [
    "print(arr3[1,2])"
   ]
  },
  {
   "cell_type": "code",
   "execution_count": 39,
   "id": "3af511c8-744b-4c74-b13e-064acfdb1124",
   "metadata": {},
   "outputs": [
    {
     "name": "stdout",
     "output_type": "stream",
     "text": [
      "[[10 20 30]]\n"
     ]
    }
   ],
   "source": [
    "print(arr3[:1])"
   ]
  },
  {
   "cell_type": "code",
   "execution_count": 40,
   "id": "a51723c8-68fa-4880-b995-565dacd37df8",
   "metadata": {},
   "outputs": [
    {
     "name": "stdout",
     "output_type": "stream",
     "text": [
      "[[40 50 60]]\n"
     ]
    }
   ],
   "source": [
    "print(arr3[1:])"
   ]
  },
  {
   "cell_type": "code",
   "execution_count": 41,
   "id": "6188b96c-3a62-4022-b243-50435ef2b42c",
   "metadata": {},
   "outputs": [
    {
     "data": {
      "text/plain": [
       "array([30, 40, 50, 60])"
      ]
     },
     "execution_count": 41,
     "metadata": {},
     "output_type": "execute_result"
    }
   ],
   "source": [
    "arr3[arr3>20]"
   ]
  },
  {
   "cell_type": "markdown",
   "id": "a0190dd1-308b-44d8-872d-4a0504a73f2b",
   "metadata": {},
   "source": [
    "<div style=\"background-color: skyblue; color: black; padding: 4px;\">\n",
    "    <h3>Ascending & decending\n",
    "</h3> </div> "
   ]
  },
  {
   "cell_type": "code",
   "execution_count": 42,
   "id": "6cf51fbf-7511-4a19-a0a6-83aabb04c60c",
   "metadata": {},
   "outputs": [],
   "source": [
    "#create array\n",
    "arr4=np.array([34,56,43,23,45,87,89])"
   ]
  },
  {
   "cell_type": "code",
   "execution_count": 43,
   "id": "fb25b1f9-fca0-4166-a2f2-27588feef2e9",
   "metadata": {},
   "outputs": [
    {
     "data": {
      "text/plain": [
       "array([34, 56, 43, 23, 45, 87, 89])"
      ]
     },
     "execution_count": 43,
     "metadata": {},
     "output_type": "execute_result"
    }
   ],
   "source": [
    "#print aar4\n",
    "arr4"
   ]
  },
  {
   "cell_type": "code",
   "execution_count": 44,
   "id": "c37e5d3a-9662-4ebc-ac2b-d0b0bdcd1b0c",
   "metadata": {},
   "outputs": [
    {
     "data": {
      "text/plain": [
       "array([23, 34, 43, 45, 56, 87, 89])"
      ]
     },
     "execution_count": 44,
     "metadata": {},
     "output_type": "execute_result"
    }
   ],
   "source": [
    "#ascending order\n",
    "np.sort(arr4)             # default - ascending"
   ]
  },
  {
   "cell_type": "code",
   "execution_count": 45,
   "id": "a06c28c3-1782-4506-bac3-f12ab63fb367",
   "metadata": {},
   "outputs": [
    {
     "ename": "TypeError",
     "evalue": "sort() got an unexpected keyword argument 'reverse'",
     "output_type": "error",
     "traceback": [
      "\u001b[31m---------------------------------------------------------------------------\u001b[39m",
      "\u001b[31mTypeError\u001b[39m                                 Traceback (most recent call last)",
      "\u001b[36mCell\u001b[39m\u001b[36m \u001b[39m\u001b[32mIn[45]\u001b[39m\u001b[32m, line 2\u001b[39m\n\u001b[32m      1\u001b[39m \u001b[38;5;66;03m#decending order\u001b[39;00m\n\u001b[32m----> \u001b[39m\u001b[32m2\u001b[39m decending = \u001b[43mnp\u001b[49m\u001b[43m.\u001b[49m\u001b[43msort\u001b[49m\u001b[43m(\u001b[49m\u001b[43marr4\u001b[49m\u001b[43m,\u001b[49m\u001b[43mreverse\u001b[49m\u001b[43m=\u001b[49m\u001b[38;5;28;43;01mTrue\u001b[39;49;00m\u001b[43m)\u001b[49m\n\u001b[32m      3\u001b[39m arr4\n",
      "\u001b[31mTypeError\u001b[39m: sort() got an unexpected keyword argument 'reverse'"
     ]
    }
   ],
   "source": [
    "#decending order\n",
    "#decending = np.sort(arr4,reverse=True)\n",
    "#arr4"
   ]
  },
  {
   "cell_type": "markdown",
   "id": "a7c0d9cc-5c6f-4657-ac50-d07ae1b54061",
   "metadata": {},
   "source": [
    "# Array Manipulation\n",
    "# Reshape"
   ]
  },
  {
   "cell_type": "code",
   "execution_count": 46,
   "id": "37cd70e8-eff0-427b-8976-494814bcfd85",
   "metadata": {},
   "outputs": [],
   "source": [
    "# Array Manipulation\n",
    "# Reshape\n",
    "arr5 = np.arange(6)"
   ]
  },
  {
   "cell_type": "code",
   "execution_count": 47,
   "id": "1fdacaaa-35bc-4b91-bf69-506e07856128",
   "metadata": {},
   "outputs": [
    {
     "data": {
      "text/plain": [
       "array([0, 1, 2, 3, 4, 5])"
      ]
     },
     "execution_count": 47,
     "metadata": {},
     "output_type": "execute_result"
    }
   ],
   "source": [
    "arr5"
   ]
  },
  {
   "cell_type": "code",
   "execution_count": 52,
   "id": "165a9e9d-d4f1-4ade-ab83-8375b3cf68e4",
   "metadata": {},
   "outputs": [
    {
     "data": {
      "text/plain": [
       "array([[0, 1, 2],\n",
       "       [3, 4, 5]])"
      ]
     },
     "execution_count": 52,
     "metadata": {},
     "output_type": "execute_result"
    }
   ],
   "source": [
    "arr5.reshape(2,3)"
   ]
  },
  {
   "cell_type": "code",
   "execution_count": 53,
   "id": "a93bd3d4-26e8-4e92-975b-501ee86188d2",
   "metadata": {},
   "outputs": [
    {
     "ename": "ValueError",
     "evalue": "cannot reshape array of size 7 into shape (2,5)",
     "output_type": "error",
     "traceback": [
      "\u001b[31m---------------------------------------------------------------------------\u001b[39m",
      "\u001b[31mValueError\u001b[39m                                Traceback (most recent call last)",
      "\u001b[36mCell\u001b[39m\u001b[36m \u001b[39m\u001b[32mIn[53]\u001b[39m\u001b[32m, line 1\u001b[39m\n\u001b[32m----> \u001b[39m\u001b[32m1\u001b[39m \u001b[43marr4\u001b[49m\u001b[43m.\u001b[49m\u001b[43mreshape\u001b[49m\u001b[43m(\u001b[49m\u001b[32;43m2\u001b[39;49m\u001b[43m,\u001b[49m\u001b[32;43m5\u001b[39;49m\u001b[43m)\u001b[49m   \u001b[38;5;66;03m#giving value error because cannot reshape array of 6 \u001b[39;00m\n",
      "\u001b[31mValueError\u001b[39m: cannot reshape array of size 7 into shape (2,5)"
     ]
    }
   ],
   "source": [
    "arr4.reshape(2,5)   #giving value error because cannot reshape array of 6 "
   ]
  },
  {
   "cell_type": "markdown",
   "id": "82cbe23c-ac6a-4a72-b781-24e225968252",
   "metadata": {},
   "source": [
    " - **Can you convert 1-D into 2-D arrays or vise-a-versa**"
   ]
  },
  {
   "cell_type": "code",
   "execution_count": 54,
   "id": "10ca1e56-73b8-4727-a9ec-6fb56748e2b2",
   "metadata": {},
   "outputs": [],
   "source": [
    "# Can you convert 1-D into 2-D arrays or vise-a-versa\n",
    "arr6 = np.array([1,2,31,3,4,5])"
   ]
  },
  {
   "cell_type": "code",
   "execution_count": 55,
   "id": "cea20f78-aa72-4909-844b-53ef666cf8fe",
   "metadata": {},
   "outputs": [
    {
     "data": {
      "text/plain": [
       "array([ 1,  2, 31,  3,  4,  5])"
      ]
     },
     "execution_count": 55,
     "metadata": {},
     "output_type": "execute_result"
    }
   ],
   "source": [
    "arr6 #print arr6"
   ]
  },
  {
   "cell_type": "code",
   "execution_count": 56,
   "id": "5ec72c36-0bd0-4ee6-a696-c70a9149f685",
   "metadata": {},
   "outputs": [
    {
     "data": {
      "text/plain": [
       "array([[ 1,  2],\n",
       "       [31,  3],\n",
       "       [ 4,  5]])"
      ]
     },
     "execution_count": 56,
     "metadata": {},
     "output_type": "execute_result"
    }
   ],
   "source": [
    "arr6.reshape(3,2) #convert into 3-D"
   ]
  },
  {
   "cell_type": "code",
   "execution_count": 57,
   "id": "fbf46265-4e09-48ba-bf42-dc1371dba9a0",
   "metadata": {},
   "outputs": [
    {
     "data": {
      "text/plain": [
       "array([[ 1,  2, 31],\n",
       "       [ 3,  4,  5]])"
      ]
     },
     "execution_count": 57,
     "metadata": {},
     "output_type": "execute_result"
    }
   ],
   "source": [
    "arr6.reshape(2,3) #Convert (reshape)"
   ]
  },
  {
   "cell_type": "code",
   "execution_count": 58,
   "id": "3b128836-d25c-4d35-a2ed-e634b062cde3",
   "metadata": {},
   "outputs": [
    {
     "data": {
      "text/plain": [
       "array([[ 1],\n",
       "       [ 2],\n",
       "       [31],\n",
       "       [ 3],\n",
       "       [ 4],\n",
       "       [ 5]])"
      ]
     },
     "execution_count": 58,
     "metadata": {},
     "output_type": "execute_result"
    }
   ],
   "source": [
    "arr6.reshape(6,1) #reshape"
   ]
  },
  {
   "cell_type": "markdown",
   "id": "39006b6f-fc44-446c-8090-eeda997e9e3e",
   "metadata": {},
   "source": [
    "### converting multiple arrays in single line"
   ]
  },
  {
   "cell_type": "code",
   "execution_count": 59,
   "id": "a90153cf-71ce-4c88-aa01-0903e9fde5f8",
   "metadata": {},
   "outputs": [
    {
     "data": {
      "text/plain": [
       "array([ 1,  2, 31,  3,  4,  5])"
      ]
     },
     "execution_count": 59,
     "metadata": {},
     "output_type": "execute_result"
    }
   ],
   "source": [
    "arr6.flatten() #converting multiple arrays in single line"
   ]
  },
  {
   "cell_type": "markdown",
   "id": "b06f3d94-3fc3-4cbe-9742-080adf480606",
   "metadata": {},
   "source": [
    "<div style=\"background-color: skyblue; color: black; padding: 4px;\">\n",
    "    <h3>Concatenation\n",
    "</h3> </div> "
   ]
  },
  {
   "cell_type": "code",
   "execution_count": 60,
   "id": "d9c3dfff-fc26-4e5e-8ebb-d07531e1d208",
   "metadata": {},
   "outputs": [],
   "source": [
    "arr7=[[1,2,3],[4,5,6]]   #create arr7\n",
    "arr8=[[10,20,30],[40,50,60]]  #create arr8"
   ]
  },
  {
   "cell_type": "code",
   "execution_count": 61,
   "id": "81d48c7b-0402-4151-a7bf-a49d7418ae61",
   "metadata": {},
   "outputs": [
    {
     "data": {
      "text/plain": [
       "array([[ 1,  2,  3],\n",
       "       [ 4,  5,  6],\n",
       "       [10, 20, 30],\n",
       "       [40, 50, 60]])"
      ]
     },
     "execution_count": 61,
     "metadata": {},
     "output_type": "execute_result"
    }
   ],
   "source": [
    "# Concatenate\n",
    "np.concatenate([arr7,arr8], axis=0)"
   ]
  },
  {
   "cell_type": "code",
   "execution_count": 62,
   "id": "b653954d-43c9-4481-8e9c-75720decb8b7",
   "metadata": {},
   "outputs": [
    {
     "data": {
      "text/plain": [
       "[[10, 20, 30], [40, 50, 60]]"
      ]
     },
     "execution_count": 62,
     "metadata": {},
     "output_type": "execute_result"
    }
   ],
   "source": [
    "arr8 #print"
   ]
  },
  {
   "cell_type": "code",
   "execution_count": 63,
   "id": "0cc0afb6-f51a-45ea-85d9-7227841ab75e",
   "metadata": {},
   "outputs": [
    {
     "data": {
      "text/plain": [
       "[[1, 2, 3], [4, 5, 6]]"
      ]
     },
     "execution_count": 63,
     "metadata": {},
     "output_type": "execute_result"
    }
   ],
   "source": [
    "arr7 #print arr7"
   ]
  },
  {
   "cell_type": "code",
   "execution_count": 64,
   "id": "81222943-32a7-471c-a017-4f890b764f76",
   "metadata": {},
   "outputs": [
    {
     "ename": "AttributeError",
     "evalue": "'list' object has no attribute 'shape'",
     "output_type": "error",
     "traceback": [
      "\u001b[31m---------------------------------------------------------------------------\u001b[39m",
      "\u001b[31mTypeError\u001b[39m                                 Traceback (most recent call last)",
      "\u001b[36mFile \u001b[39m\u001b[32m~\\trainee\\Lib\\site-packages\\numpy\\lib\\_shape_base_impl.py:879\u001b[39m, in \u001b[36msplit\u001b[39m\u001b[34m(ary, indices_or_sections, axis)\u001b[39m\n\u001b[32m    878\u001b[39m \u001b[38;5;28;01mtry\u001b[39;00m:\n\u001b[32m--> \u001b[39m\u001b[32m879\u001b[39m     \u001b[38;5;28;43mlen\u001b[39;49m\u001b[43m(\u001b[49m\u001b[43mindices_or_sections\u001b[49m\u001b[43m)\u001b[49m\n\u001b[32m    880\u001b[39m \u001b[38;5;28;01mexcept\u001b[39;00m \u001b[38;5;167;01mTypeError\u001b[39;00m:\n",
      "\u001b[31mTypeError\u001b[39m: object of type 'int' has no len()",
      "\nDuring handling of the above exception, another exception occurred:\n",
      "\u001b[31mAttributeError\u001b[39m                            Traceback (most recent call last)",
      "\u001b[36mCell\u001b[39m\u001b[36m \u001b[39m\u001b[32mIn[64]\u001b[39m\u001b[32m, line 1\u001b[39m\n\u001b[32m----> \u001b[39m\u001b[32m1\u001b[39m \u001b[43mnp\u001b[49m\u001b[43m.\u001b[49m\u001b[43msplit\u001b[49m\u001b[43m(\u001b[49m\u001b[43marr8\u001b[49m\u001b[43m,\u001b[49m\u001b[43m \u001b[49m\u001b[32;43m2\u001b[39;49m\u001b[43m)\u001b[49m \u001b[38;5;66;03m# Check Documentation\u001b[39;00m\n",
      "\u001b[36mFile \u001b[39m\u001b[32m~\\trainee\\Lib\\site-packages\\numpy\\lib\\_shape_base_impl.py:882\u001b[39m, in \u001b[36msplit\u001b[39m\u001b[34m(ary, indices_or_sections, axis)\u001b[39m\n\u001b[32m    880\u001b[39m \u001b[38;5;28;01mexcept\u001b[39;00m \u001b[38;5;167;01mTypeError\u001b[39;00m:\n\u001b[32m    881\u001b[39m     sections = indices_or_sections\n\u001b[32m--> \u001b[39m\u001b[32m882\u001b[39m     N = \u001b[43mary\u001b[49m\u001b[43m.\u001b[49m\u001b[43mshape\u001b[49m[axis]\n\u001b[32m    883\u001b[39m     \u001b[38;5;28;01mif\u001b[39;00m N % sections:\n\u001b[32m    884\u001b[39m         \u001b[38;5;28;01mraise\u001b[39;00m \u001b[38;5;167;01mValueError\u001b[39;00m(\n\u001b[32m    885\u001b[39m             \u001b[33m'\u001b[39m\u001b[33marray split does not result in an equal division\u001b[39m\u001b[33m'\u001b[39m) \u001b[38;5;28;01mfrom\u001b[39;00m\u001b[38;5;250m \u001b[39m\u001b[38;5;28;01mNone\u001b[39;00m\n",
      "\u001b[31mAttributeError\u001b[39m: 'list' object has no attribute 'shape'"
     ]
    }
   ],
   "source": [
    "np.split(arr8, 2) # Check Documentation"
   ]
  },
  {
   "cell_type": "markdown",
   "id": "c8cbbc9e-c663-4ba4-ba63-411bc3c23501",
   "metadata": {},
   "source": [
    "<div style=\"background-color: skyblue; color: black; padding: 4px;\">\n",
    "    <h3>Basic Operations\n",
    "</h3> </div> "
   ]
  },
  {
   "cell_type": "code",
   "execution_count": 65,
   "id": "7f69c533-8e2b-40b4-b35c-59507fef41c0",
   "metadata": {},
   "outputs": [
    {
     "name": "stdout",
     "output_type": "stream",
     "text": [
      "45\n"
     ]
    }
   ],
   "source": [
    "# sum of all array elements\n",
    "arr0 = np.array([1,2,3,4,5,6,7,8,9])\n",
    "print(np.sum(arr0))"
   ]
  },
  {
   "cell_type": "code",
   "execution_count": 66,
   "id": "3246f632-9b01-4ec8-b200-0a739b66dedd",
   "metadata": {},
   "outputs": [
    {
     "name": "stdout",
     "output_type": "stream",
     "text": [
      "5.0\n"
     ]
    }
   ],
   "source": [
    "np.mean(arr0)   # findmean of array\n",
    "print(np.mean(arr0))"
   ]
  },
  {
   "cell_type": "code",
   "execution_count": 67,
   "id": "c28a053d-9ee8-4f31-9c81-648be86810b5",
   "metadata": {},
   "outputs": [
    {
     "name": "stdout",
     "output_type": "stream",
     "text": [
      "2.581988897471611\n"
     ]
    }
   ],
   "source": [
    "np.std(arr0)  # standard divation \n",
    "print(np.std(arr0))"
   ]
  },
  {
   "cell_type": "code",
   "execution_count": 68,
   "id": "5c7af58d-b28b-4436-886c-d109f51d0312",
   "metadata": {},
   "outputs": [
    {
     "name": "stdout",
     "output_type": "stream",
     "text": [
      "1\n"
     ]
    }
   ],
   "source": [
    "np.min(arr0)    #find minimum value\n",
    "print(np.min(arr0))"
   ]
  },
  {
   "cell_type": "code",
   "execution_count": 69,
   "id": "f13e2be3-a4a9-4070-84b8-37899424c571",
   "metadata": {},
   "outputs": [
    {
     "name": "stdout",
     "output_type": "stream",
     "text": [
      "9\n"
     ]
    }
   ],
   "source": [
    "np.max(arr0) # find maximum value \n",
    "print(np.max(arr0))"
   ]
  },
  {
   "cell_type": "markdown",
   "id": "ac938c04-803e-48af-8402-11e64161aece",
   "metadata": {},
   "source": [
    "**The np.cumsum() function in NumPy is used to compute the cumulative sum of array**"
   ]
  },
  {
   "cell_type": "code",
   "execution_count": 70,
   "id": "483fbd73-ef04-4113-b5cf-654baae49013",
   "metadata": {},
   "outputs": [
    {
     "name": "stdout",
     "output_type": "stream",
     "text": [
      "[ 1  3  6 10 15 21 28 36 45]\n"
     ]
    }
   ],
   "source": [
    "np.cumsum(arr0) # cumulative sum\n",
    "print(np.cumsum(arr0))"
   ]
  },
  {
   "cell_type": "code",
   "execution_count": 71,
   "id": "b6503802-d343-43a9-b640-168f1ffe1aeb",
   "metadata": {},
   "outputs": [
    {
     "data": {
      "text/plain": [
       "array([2.71828183e+00, 7.38905610e+00, 2.00855369e+01, 5.45981500e+01,\n",
       "       1.48413159e+02, 4.03428793e+02, 1.09663316e+03, 2.98095799e+03,\n",
       "       8.10308393e+03])"
      ]
     },
     "execution_count": 71,
     "metadata": {},
     "output_type": "execute_result"
    }
   ],
   "source": [
    "np.exp(arr0)"
   ]
  },
  {
   "cell_type": "code",
   "execution_count": 72,
   "id": "ff53b5f4-ceba-491d-a337-b1e07b319f54",
   "metadata": {},
   "outputs": [
    {
     "data": {
      "text/plain": [
       "array([1.        , 1.41421356, 1.73205081, 2.        , 2.23606798,\n",
       "       2.44948974, 2.64575131, 2.82842712, 3.        ])"
      ]
     },
     "execution_count": 72,
     "metadata": {},
     "output_type": "execute_result"
    }
   ],
   "source": [
    "np.sqrt(arr0) "
   ]
  },
  {
   "cell_type": "code",
   "execution_count": 73,
   "id": "57dc1f24-e57f-426a-9b21-24202801fa47",
   "metadata": {},
   "outputs": [
    {
     "data": {
      "text/plain": [
       "array([ 2,  4,  6,  8, 10, 12])"
      ]
     },
     "execution_count": 73,
     "metadata": {},
     "output_type": "execute_result"
    }
   ],
   "source": [
    "arr6 = np.array([1,2,3,4,5,6])\n",
    "arr7 = np.array([1,2,3,4,5,6])\n",
    "arr6+arr7"
   ]
  },
  {
   "cell_type": "code",
   "execution_count": 74,
   "id": "194ce671-16f6-4481-b6f9-9034ed7d19ce",
   "metadata": {},
   "outputs": [
    {
     "data": {
      "text/plain": [
       "array([ 2,  4,  6,  8, 10, 12])"
      ]
     },
     "execution_count": 74,
     "metadata": {},
     "output_type": "execute_result"
    }
   ],
   "source": [
    "np.add(arr6,arr7)"
   ]
  },
  {
   "cell_type": "code",
   "execution_count": 75,
   "id": "da3c5952-fc86-444b-84c0-457fb218dde9",
   "metadata": {},
   "outputs": [
    {
     "data": {
      "text/plain": [
       "array([ 1,  4,  9, 16, 25, 36])"
      ]
     },
     "execution_count": 75,
     "metadata": {},
     "output_type": "execute_result"
    }
   ],
   "source": [
    "np.multiply(arr6,arr7)"
   ]
  },
  {
   "cell_type": "code",
   "execution_count": 76,
   "id": "e0c360c5-069f-4030-af17-f09c64d28f91",
   "metadata": {},
   "outputs": [
    {
     "data": {
      "text/plain": [
       "array([ 0.84147098,  0.90929743,  0.14112001, -0.7568025 , -0.95892427,\n",
       "       -0.2794155 ])"
      ]
     },
     "execution_count": 76,
     "metadata": {},
     "output_type": "execute_result"
    }
   ],
   "source": [
    "np.sin(arr6)"
   ]
  },
  {
   "cell_type": "code",
   "execution_count": 77,
   "id": "967949f8-a452-47fb-841b-5ea08df00e48",
   "metadata": {},
   "outputs": [
    {
     "data": {
      "text/plain": [
       "array([0.        , 0.69314718, 1.09861229, 1.38629436, 1.60943791,\n",
       "       1.79175947])"
      ]
     },
     "execution_count": 77,
     "metadata": {},
     "output_type": "execute_result"
    }
   ],
   "source": [
    "np.log(arr6)"
   ]
  },
  {
   "cell_type": "markdown",
   "id": "c687b6bd-ecdd-4428-b4f3-8158d6fb9406",
   "metadata": {},
   "source": [
    "<div style=\"background-color: skyblue; color: black; padding: 4px;\">\n",
    "    <h3>Random NumPy Module\n",
    "</h3> </div> "
   ]
  },
  {
   "cell_type": "code",
   "execution_count": 78,
   "id": "4a338eeb-7ea0-4989-9f98-4b6c8bea3634",
   "metadata": {},
   "outputs": [],
   "source": [
    "# Random\n",
    "np.random.seed(9)\n",
    "random = np.random.rand(3,2)"
   ]
  },
  {
   "cell_type": "code",
   "execution_count": 98,
   "id": "5e7e290a-02f2-478b-8f6b-221de96918ec",
   "metadata": {},
   "outputs": [
    {
     "data": {
      "text/plain": [
       "array([[9, 2],\n",
       "       [9, 6],\n",
       "       [2, 1]], dtype=int32)"
      ]
     },
     "execution_count": 98,
     "metadata": {},
     "output_type": "execute_result"
    }
   ],
   "source": [
    "random  #give random array elements"
   ]
  },
  {
   "cell_type": "code",
   "execution_count": 99,
   "id": "97e82dd2-7f1a-45cd-81e8-dc5d90a3079c",
   "metadata": {},
   "outputs": [],
   "source": [
    "random = np.random.randint(1,10,(3,2))"
   ]
  },
  {
   "cell_type": "code",
   "execution_count": 100,
   "id": "8f58dab6-3c99-4c35-9ed7-5a560f2006ad",
   "metadata": {},
   "outputs": [
    {
     "data": {
      "text/plain": [
       "array([[9, 9],\n",
       "       [9, 3],\n",
       "       [7, 9]], dtype=int32)"
      ]
     },
     "execution_count": 100,
     "metadata": {},
     "output_type": "execute_result"
    }
   ],
   "source": [
    "random"
   ]
  },
  {
   "cell_type": "code",
   "execution_count": 101,
   "id": "8ebf8bd4-90c4-4ee2-b7a7-08fd77ed9f4f",
   "metadata": {},
   "outputs": [],
   "source": [
    "arr6 = ([[1,2],[3,4]])"
   ]
  },
  {
   "cell_type": "code",
   "execution_count": 102,
   "id": "5029e8a3-2412-4b34-8ee7-6eadc03e779a",
   "metadata": {},
   "outputs": [],
   "source": [
    "arr7 = ([[5,6],[7,8]])"
   ]
  },
  {
   "cell_type": "markdown",
   "id": "b4f8cb37-3bba-477e-b19d-982add07f8d9",
   "metadata": {},
   "source": [
    "<div style=\"background-color: skyblue; color: black; padding: 4px;\">\n",
    "    <h3> Linear Algebra\n",
    "</h3> </div> \n"
   ]
  },
  {
   "cell_type": "markdown",
   "id": "0bf55f5d-101d-47d3-9698-f20e95119c91",
   "metadata": {},
   "source": [
    "**The NumPy Linear Algebra Library provides a robust set of tools for performing linear algebra operations efficiently. It relies on BLAS (Basic Linear Algebra Subprograms) and LAPACK (Linear Algebra Package) for optimized performance.**"
   ]
  },
  {
   "cell_type": "code",
   "execution_count": 92,
   "id": "4b7c69a5-5be9-45f1-abad-d8fb4f13d9eb",
   "metadata": {},
   "outputs": [
    {
     "data": {
      "text/plain": [
       "array([[19, 22],\n",
       "       [43, 50]])"
      ]
     },
     "execution_count": 92,
     "metadata": {},
     "output_type": "execute_result"
    }
   ],
   "source": [
    "# Linear Algebra\n",
    "np.dot(arr6,arr7)  #matrix multiplication"
   ]
  },
  {
   "cell_type": "code",
   "execution_count": 93,
   "id": "2af0255f-21a7-4bf3-a88b-c9a2e5c59e08",
   "metadata": {},
   "outputs": [
    {
     "data": {
      "text/plain": [
       "array([[-2. ,  1. ],\n",
       "       [ 1.5, -0.5]])"
      ]
     },
     "execution_count": 93,
     "metadata": {},
     "output_type": "execute_result"
    }
   ],
   "source": [
    "np.linalg.inv(arr6)  #Compute inverse of a matrix"
   ]
  },
  {
   "cell_type": "code",
   "execution_count": 94,
   "id": "fa87f40d-f22e-4af7-8273-b4f383b1dec5",
   "metadata": {},
   "outputs": [
    {
     "data": {
      "text/plain": [
       "np.float64(-2.0000000000000004)"
      ]
     },
     "execution_count": 94,
     "metadata": {},
     "output_type": "execute_result"
    }
   ],
   "source": [
    "np.linalg.det(arr6) #Determinant"
   ]
  },
  {
   "cell_type": "code",
   "execution_count": 95,
   "id": "2f6d8bca-d847-48bf-8673-86b539ad13b0",
   "metadata": {},
   "outputs": [
    {
     "data": {
      "text/plain": [
       "EigResult(eigenvalues=array([-0.37228132,  5.37228132]), eigenvectors=array([[-0.82456484, -0.41597356],\n",
       "       [ 0.56576746, -0.90937671]]))"
      ]
     },
     "execution_count": 95,
     "metadata": {},
     "output_type": "execute_result"
    }
   ],
   "source": [
    "np.linalg.eig(arr6) #Compute eigenvalues and eigenvectors"
   ]
  },
  {
   "cell_type": "code",
   "execution_count": 96,
   "id": "b1dfff87-cf45-4419-aea6-59b9dffa149b",
   "metadata": {},
   "outputs": [
    {
     "name": "stdout",
     "output_type": "stream",
     "text": [
      "8056\n",
      "8000\n"
     ]
    }
   ],
   "source": [
    "import sys\n",
    "\n",
    "lst = list(range(1000))\n",
    "arr8 = np.arange(1000)\n",
    "print(sys.getsizeof(lst))\n",
    "print(arr8.nbytes)"
   ]
  },
  {
   "cell_type": "code",
   "execution_count": 97,
   "id": "23374275-9916-4161-8fe2-748079d49c75",
   "metadata": {},
   "outputs": [
    {
     "data": {
      "text/plain": [
       "array([  0,   1,   2,   3,   4,   5,   6,   7,   8,   9,  10,  11,  12,\n",
       "        13,  14,  15,  16,  17,  18,  19,  20,  21,  22,  23,  24,  25,\n",
       "        26,  27,  28,  29,  30,  31,  32,  33,  34,  35,  36,  37,  38,\n",
       "        39,  40,  41,  42,  43,  44,  45,  46,  47,  48,  49,  50,  51,\n",
       "        52,  53,  54,  55,  56,  57,  58,  59,  60,  61,  62,  63,  64,\n",
       "        65,  66,  67,  68,  69,  70,  71,  72,  73,  74,  75,  76,  77,\n",
       "        78,  79,  80,  81,  82,  83,  84,  85,  86,  87,  88,  89,  90,\n",
       "        91,  92,  93,  94,  95,  96,  97,  98,  99, 100, 101, 102, 103,\n",
       "       104, 105, 106, 107, 108, 109, 110, 111, 112, 113, 114, 115, 116,\n",
       "       117, 118, 119, 120, 121, 122, 123, 124, 125, 126, 127, 128, 129,\n",
       "       130, 131, 132, 133, 134, 135, 136, 137, 138, 139, 140, 141, 142,\n",
       "       143, 144, 145, 146, 147, 148, 149, 150, 151, 152, 153, 154, 155,\n",
       "       156, 157, 158, 159, 160, 161, 162, 163, 164, 165, 166, 167, 168,\n",
       "       169, 170, 171, 172, 173, 174, 175, 176, 177, 178, 179, 180, 181,\n",
       "       182, 183, 184, 185, 186, 187, 188, 189, 190, 191, 192, 193, 194,\n",
       "       195, 196, 197, 198, 199, 200, 201, 202, 203, 204, 205, 206, 207,\n",
       "       208, 209, 210, 211, 212, 213, 214, 215, 216, 217, 218, 219, 220,\n",
       "       221, 222, 223, 224, 225, 226, 227, 228, 229, 230, 231, 232, 233,\n",
       "       234, 235, 236, 237, 238, 239, 240, 241, 242, 243, 244, 245, 246,\n",
       "       247, 248, 249, 250, 251, 252, 253, 254, 255, 256, 257, 258, 259,\n",
       "       260, 261, 262, 263, 264, 265, 266, 267, 268, 269, 270, 271, 272,\n",
       "       273, 274, 275, 276, 277, 278, 279, 280, 281, 282, 283, 284, 285,\n",
       "       286, 287, 288, 289, 290, 291, 292, 293, 294, 295, 296, 297, 298,\n",
       "       299, 300, 301, 302, 303, 304, 305, 306, 307, 308, 309, 310, 311,\n",
       "       312, 313, 314, 315, 316, 317, 318, 319, 320, 321, 322, 323, 324,\n",
       "       325, 326, 327, 328, 329, 330, 331, 332, 333, 334, 335, 336, 337,\n",
       "       338, 339, 340, 341, 342, 343, 344, 345, 346, 347, 348, 349, 350,\n",
       "       351, 352, 353, 354, 355, 356, 357, 358, 359, 360, 361, 362, 363,\n",
       "       364, 365, 366, 367, 368, 369, 370, 371, 372, 373, 374, 375, 376,\n",
       "       377, 378, 379, 380, 381, 382, 383, 384, 385, 386, 387, 388, 389,\n",
       "       390, 391, 392, 393, 394, 395, 396, 397, 398, 399, 400, 401, 402,\n",
       "       403, 404, 405, 406, 407, 408, 409, 410, 411, 412, 413, 414, 415,\n",
       "       416, 417, 418, 419, 420, 421, 422, 423, 424, 425, 426, 427, 428,\n",
       "       429, 430, 431, 432, 433, 434, 435, 436, 437, 438, 439, 440, 441,\n",
       "       442, 443, 444, 445, 446, 447, 448, 449, 450, 451, 452, 453, 454,\n",
       "       455, 456, 457, 458, 459, 460, 461, 462, 463, 464, 465, 466, 467,\n",
       "       468, 469, 470, 471, 472, 473, 474, 475, 476, 477, 478, 479, 480,\n",
       "       481, 482, 483, 484, 485, 486, 487, 488, 489, 490, 491, 492, 493,\n",
       "       494, 495, 496, 497, 498, 499, 500, 501, 502, 503, 504, 505, 506,\n",
       "       507, 508, 509, 510, 511, 512, 513, 514, 515, 516, 517, 518, 519,\n",
       "       520, 521, 522, 523, 524, 525, 526, 527, 528, 529, 530, 531, 532,\n",
       "       533, 534, 535, 536, 537, 538, 539, 540, 541, 542, 543, 544, 545,\n",
       "       546, 547, 548, 549, 550, 551, 552, 553, 554, 555, 556, 557, 558,\n",
       "       559, 560, 561, 562, 563, 564, 565, 566, 567, 568, 569, 570, 571,\n",
       "       572, 573, 574, 575, 576, 577, 578, 579, 580, 581, 582, 583, 584,\n",
       "       585, 586, 587, 588, 589, 590, 591, 592, 593, 594, 595, 596, 597,\n",
       "       598, 599, 600, 601, 602, 603, 604, 605, 606, 607, 608, 609, 610,\n",
       "       611, 612, 613, 614, 615, 616, 617, 618, 619, 620, 621, 622, 623,\n",
       "       624, 625, 626, 627, 628, 629, 630, 631, 632, 633, 634, 635, 636,\n",
       "       637, 638, 639, 640, 641, 642, 643, 644, 645, 646, 647, 648, 649,\n",
       "       650, 651, 652, 653, 654, 655, 656, 657, 658, 659, 660, 661, 662,\n",
       "       663, 664, 665, 666, 667, 668, 669, 670, 671, 672, 673, 674, 675,\n",
       "       676, 677, 678, 679, 680, 681, 682, 683, 684, 685, 686, 687, 688,\n",
       "       689, 690, 691, 692, 693, 694, 695, 696, 697, 698, 699, 700, 701,\n",
       "       702, 703, 704, 705, 706, 707, 708, 709, 710, 711, 712, 713, 714,\n",
       "       715, 716, 717, 718, 719, 720, 721, 722, 723, 724, 725, 726, 727,\n",
       "       728, 729, 730, 731, 732, 733, 734, 735, 736, 737, 738, 739, 740,\n",
       "       741, 742, 743, 744, 745, 746, 747, 748, 749, 750, 751, 752, 753,\n",
       "       754, 755, 756, 757, 758, 759, 760, 761, 762, 763, 764, 765, 766,\n",
       "       767, 768, 769, 770, 771, 772, 773, 774, 775, 776, 777, 778, 779,\n",
       "       780, 781, 782, 783, 784, 785, 786, 787, 788, 789, 790, 791, 792,\n",
       "       793, 794, 795, 796, 797, 798, 799, 800, 801, 802, 803, 804, 805,\n",
       "       806, 807, 808, 809, 810, 811, 812, 813, 814, 815, 816, 817, 818,\n",
       "       819, 820, 821, 822, 823, 824, 825, 826, 827, 828, 829, 830, 831,\n",
       "       832, 833, 834, 835, 836, 837, 838, 839, 840, 841, 842, 843, 844,\n",
       "       845, 846, 847, 848, 849, 850, 851, 852, 853, 854, 855, 856, 857,\n",
       "       858, 859, 860, 861, 862, 863, 864, 865, 866, 867, 868, 869, 870,\n",
       "       871, 872, 873, 874, 875, 876, 877, 878, 879, 880, 881, 882, 883,\n",
       "       884, 885, 886, 887, 888, 889, 890, 891, 892, 893, 894, 895, 896,\n",
       "       897, 898, 899, 900, 901, 902, 903, 904, 905, 906, 907, 908, 909,\n",
       "       910, 911, 912, 913, 914, 915, 916, 917, 918, 919, 920, 921, 922,\n",
       "       923, 924, 925, 926, 927, 928, 929, 930, 931, 932, 933, 934, 935,\n",
       "       936, 937, 938, 939, 940, 941, 942, 943, 944, 945, 946, 947, 948,\n",
       "       949, 950, 951, 952, 953, 954, 955, 956, 957, 958, 959, 960, 961,\n",
       "       962, 963, 964, 965, 966, 967, 968, 969, 970, 971, 972, 973, 974,\n",
       "       975, 976, 977, 978, 979, 980, 981, 982, 983, 984, 985, 986, 987,\n",
       "       988, 989, 990, 991, 992, 993, 994, 995, 996, 997, 998, 999])"
      ]
     },
     "execution_count": 97,
     "metadata": {},
     "output_type": "execute_result"
    }
   ],
   "source": [
    "arr8"
   ]
  },
  {
   "cell_type": "code",
   "execution_count": null,
   "id": "56aaed85-8d19-4ac1-857b-6293af2f634f",
   "metadata": {},
   "outputs": [],
   "source": []
  },
  {
   "cell_type": "code",
   "execution_count": null,
   "id": "7a7783cd-f59e-4040-8818-a8488b79bd0d",
   "metadata": {},
   "outputs": [],
   "source": []
  }
 ],
 "metadata": {
  "kernelspec": {
   "display_name": "trainee",
   "language": "python",
   "name": "trainee"
  },
  "language_info": {
   "codemirror_mode": {
    "name": "ipython",
    "version": 3
   },
   "file_extension": ".py",
   "mimetype": "text/x-python",
   "name": "python",
   "nbconvert_exporter": "python",
   "pygments_lexer": "ipython3",
   "version": "3.13.2"
  }
 },
 "nbformat": 4,
 "nbformat_minor": 5
}
