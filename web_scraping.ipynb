{
 "cells": [
  {
   "cell_type": "markdown",
   "id": "7bb3a500-c587-4238-930b-df2016d2f2a5",
   "metadata": {},
   "source": [
    "<div style=\"background-color:rgba(40, 224, 224, 1); padding: 10px; height: 80px; border-radius: 15px;\">\n",
    "    <div style=\"font-family: 'Georgia', serif; font-size: 20px; padding: 10px; text-align: centre; position: absolute; right: 20px;\">\n",
    "        Sakshi <br>\n",
    "        <span style=\"font-family: 'Arial', sans-serif;font-size: 12px; color: #0a0a0a;\">Data Analytics Trainee</span> \n",
    "    </div>\n",
    "</div>"
   ]
  },
  {
   "cell_type": "markdown",
   "id": "56546662-9e58-42ef-9f81-70c0dd5e6d46",
   "metadata": {},
   "source": [
    "<div style=\"background-color: #002147; padding: 10px; text-align: center; color: white; font-size: 32px; font-family: 'Arial', sans-serif;\">\n",
    "    Web Scraping \n",
    "    <br><br>\n",
    "\n",
    "</div>"
   ]
  },
  {
   "cell_type": "markdown",
   "id": "4ec3bd28-ea02-4ba9-bb64-99b237761909",
   "metadata": {},
   "source": [
    "<h5><p>Web scraping is a powerful technique used to extract data from websites.\n",
    "\n",
    "It involves fetching web pages and parsing their content to retrieve specific information, which can be stored for further analysis or use.\n",
    "\n",
    "Web scraping is commonly used for data collection, research, and various applications across different industries.</p></h5>"
   ]
  },
  {
   "cell_type": "markdown",
   "id": "3a299837-3437-4a98-a9e6-5666d23f9942",
   "metadata": {},
   "source": [
    "# AGENDA\n",
    "\n",
    "[1.Web Scraping](#1.Web-Scraping) \n",
    "\n",
    "[Load the HTML file as text then storing in a variable](#Load-the-HTML-file-as-text-then-storing-in-a-variable)\n",
    "\n",
    "[Load using the requests package](#Load-using-the-requests-package)"
   ]
  },
  {
   "cell_type": "markdown",
   "id": "87f1cb2e-44cd-4ccd-b0dc-2ec318dacc50",
   "metadata": {},
   "source": [
    "<div style=\"background-color: lightgreen; color: black; padding: 4px;\">\n",
    "    <h3>1.Web Scraping \n",
    "</h3> </div>"
   ]
  },
  {
   "cell_type": "markdown",
   "id": "a30aea3f-88af-4e26-a157-030fc6fe9e89",
   "metadata": {},
   "source": [
    "<h4><p>Data Collection: Web scraping allows for the automated gathering of data from multiple online sources, making it easier to collect large datasets for analysis or research.\n",
    "\n",
    "Dynamic Content Extraction: Many websites display dynamic content that may be difficult or impossible to collect manually. Web scraping can efficiently extract this data.\n",
    "\n",
    "Time Efficiency: Automating the data collection process saves time and reduces human error, enabling faster and more accurate results.\n",
    "\n",
    "Access to Unstructured Data: A significant amount of information on the web is unstructured. Web scraping helps convert this data into structured formats, facilitating analysis and integration.\n",
    "\n",
    "Cost-Effectiveness: By automating data collection, businesses and researchers can reduce the need for extensive human resources, lowering operational costs.</h4></p>"
   ]
  },
  {
   "cell_type": "markdown",
   "id": "c5e1aac5-2ccc-4005-89cd-29e35fa8fbcf",
   "metadata": {},
   "source": [
    "## How is Web Scraping Done?"
   ]
  },
  {
   "cell_type": "markdown",
   "id": "192d2211-f58e-4836-b81e-a11292bec193",
   "metadata": {},
   "source": [
    "<h2><p>Web scraping typically involves the following steps:</p>\n",
    "<p>\n",
    "<ul><li><b>Sending an HTTP Request:</b> A request is sent to the target web server to retrieve the desired web page.\n",
    "</li></p>\n",
    "    <p><li><b>Retrieving Web Page Content:</b> The server responds with the web page content, usually in HTML format.\n",
    "</li></p>\n",
    "<p><li><b>Parsing the HTML: </b>The HTML content is parsed to locate specific data elements using libraries or tools designed for this purpose (e.g., BeautifulSoup, Scrapy).</li></p>\n",
    "\n",
    "<p><li><b>Extracting Data:</b>The relevant data is extracted from the parsed HTML structure based on predefined rules or criteria.</li></p>\n",
    "\n",
    "<p><li><b>Storing Data:</b> The extracted data can be stored in various formats, such as CSV, JSON, or databases, for further analysis or processing.</li></p>\n",
    "\n",
    "<p><li><b>Handling Challenges:</b> Web scrapers may need to address challenges such as anti-scraping measures, dynamic content loading (JavaScript), and legal considerations.</li></p>\n",
    "</ul>"
   ]
  },
  {
   "cell_type": "code",
   "execution_count": null,
   "id": "6c1f4dbc-5135-4748-bbfe-cc36c37122b2",
   "metadata": {},
   "outputs": [],
   "source": []
  },
  {
   "cell_type": "markdown",
   "id": "c7da1c93-915d-4fcc-88a4-229a35b48add",
   "metadata": {},
   "source": [
    "# !pip install pandas\n"
   ]
  },
  {
   "cell_type": "code",
   "execution_count": 1,
   "id": "04481400-e9cb-49d9-9ce4-71eba8001b84",
   "metadata": {},
   "outputs": [],
   "source": [
    "\n",
    "import pandas as pd\n"
   ]
  },
  {
   "cell_type": "markdown",
   "id": "b8b2e477-419d-431a-8247-cfcea2439e9c",
   "metadata": {},
   "source": [
    "#  Load the HTML file as text then storing in a variable"
   ]
  },
  {
   "cell_type": "code",
   "execution_count": 2,
   "id": "58ff78ea-e61e-4cbe-a596-1369d95b1ea9",
   "metadata": {},
   "outputs": [],
   "source": [
    "html_doc = \"\"\"<!DOCTYPE html>\n",
    "<html lang=\"en\">\n",
    "<head>\n",
    "    <meta charset=\"UTF-8\">\n",
    "    <meta name=\"viewport\" content=\"width=device-width, initial-scale=1.0\">\n",
    "    <title>Sample Books Data</title>\n",
    "    <style>\n",
    "        body {\n",
    "            font-family: Arial, sans-serif;\n",
    "            margin: 20px;\n",
    "            background-color: #f8f8f8;\n",
    "        }\n",
    "        h1 {\n",
    "            text-align: center;\n",
    "            color: #333;\n",
    "        }\n",
    "        .book {\n",
    "            border: 1px solid #ccc;\n",
    "            padding: 15px;\n",
    "            margin: 10px;\n",
    "            border-radius: 5px;\n",
    "            background-color: #fff;\n",
    "        }\n",
    "        .title {\n",
    "            font-size: 1.5em;\n",
    "            color: #0056b3;\n",
    "        }\n",
    "        .author {\n",
    "            font-style: italic;\n",
    "            color: #555;\n",
    "        }\n",
    "        .price {\n",
    "            color: #d9534f;\n",
    "            font-weight: bold;\n",
    "        }\n",
    "        .description {\n",
    "            margin-top: 10px;\n",
    "        }\n",
    "        a {\n",
    "            color: #007bff;\n",
    "            text-decoration: none;\n",
    "        }\n",
    "        a:hover {\n",
    "            text-decoration: underline;\n",
    "        }\n",
    "    </style>\n",
    "</head>\n",
    "<body>\n",
    "    <h1>Books List</h1>\n",
    "    <div class=\"book\">\n",
    "        <p class=\"title\">\n",
    "            <b>The Great Gatsby</b>\n",
    "        </p>\n",
    "        <p class=\"author\">Author: F. Scott Fitzgerald</p>\n",
    "        <p class=\"price\">Price: $10.99</p>\n",
    "        <p class=\"publication-year\">Publication Year: 1925</p>\n",
    "        <p class=\"genre\">Genre: Fiction</p>\n",
    "        <p class=\"description\">\n",
    "            A novel about the American dream, set in the 1920s on Long Island.\n",
    "        </p>\n",
    "        <p>More Info: <a class=\"info-link\" href=\"http://example.com/gatsby\" id=\"link1\">Learn More</a></p>\n",
    "    </div>\n",
    "    <div class=\"book\">\n",
    "        <p class=\"title\">\n",
    "            <b>1984</b>\n",
    "        </p>\n",
    "        <p class=\"author\">Author: George Orwell</p>\n",
    "        <p class=\"price\">Price: $8.99</p>\n",
    "        <p class=\"publication-year\">Publication Year: 1949</p>\n",
    "        <p class=\"genre\">Genre: Dystopian</p>\n",
    "        <p class=\"description\">\n",
    "            A story about a totalitarian regime that uses surveillance and propaganda to control its citizens.\n",
    "        </p>\n",
    "        <p>More Info: <a class=\"info-link\" href=\"http://example.com/1984\" id=\"link2\">Learn More</a></p>\n",
    "    </div>\n",
    "    <div class=\"book\">\n",
    "        <p class=\"title\">\n",
    "            <b>To Kill a Mockingbird</b>\n",
    "        </p>\n",
    "        <p class=\"author\">Author: Harper Lee</p>\n",
    "        <p class=\"price\">Price: $7.99</p>\n",
    "        <p class=\"publication-year\">Publication Year: 1960</p>\n",
    "        <p class=\"genre\">Genre: Fiction</p>\n",
    "        <p class=\"description\">\n",
    "            A novel set in the Great Depression that addresses serious issues of race and injustice.\n",
    "        </p>\n",
    "        <p>More Info: <a class=\"info-link\" href=\"http://example.com/mockingbird\" id=\"link3\">Learn More</a></p>\n",
    "    </div>\n",
    "</body>\n",
    "</html>\n",
    "\"\"\""
   ]
  },
  {
   "cell_type": "markdown",
   "id": "f5e4060e-7f64-4a2e-87d1-582cefc47ec2",
   "metadata": {},
   "source": [
    "# Load using the requests package"
   ]
  },
  {
   "cell_type": "code",
   "execution_count": 3,
   "id": "7309e15b-d6b4-442f-a2c1-f53c4ceb93d5",
   "metadata": {},
   "outputs": [
    {
     "name": "stdout",
     "output_type": "stream",
     "text": [
      "Requirement already satisfied: beautifulsoup4 in c:\\users\\hp\\trainee\\lib\\site-packages (4.13.4)\n",
      "Requirement already satisfied: soupsieve>1.2 in c:\\users\\hp\\trainee\\lib\\site-packages (from beautifulsoup4) (2.7)\n",
      "Requirement already satisfied: typing-extensions>=4.0.0 in c:\\users\\hp\\trainee\\lib\\site-packages (from beautifulsoup4) (4.14.1)\n",
      "Note: you may need to restart the kernel to use updated packages.\n"
     ]
    }
   ],
   "source": [
    "pip install beautifulsoup4"
   ]
  },
  {
   "cell_type": "code",
   "execution_count": 4,
   "id": "534b6bb3-9a3e-479f-9ebb-6b32cfd81e2d",
   "metadata": {},
   "outputs": [],
   "source": [
    "from bs4 import BeautifulSoup"
   ]
  },
  {
   "cell_type": "code",
   "execution_count": 5,
   "id": "ca8f6dcd-e02d-4e8c-b34b-816d0b1e9268",
   "metadata": {},
   "outputs": [
    {
     "data": {
      "text/plain": [
       "<!DOCTYPE html>\n",
       "\n",
       "<html lang=\"en\">\n",
       "<head>\n",
       "<meta charset=\"utf-8\"/>\n",
       "<meta content=\"width=device-width, initial-scale=1.0\" name=\"viewport\"/>\n",
       "<title>Sample Books Data</title>\n",
       "<style>\n",
       "        body {\n",
       "            font-family: Arial, sans-serif;\n",
       "            margin: 20px;\n",
       "            background-color: #f8f8f8;\n",
       "        }\n",
       "        h1 {\n",
       "            text-align: center;\n",
       "            color: #333;\n",
       "        }\n",
       "        .book {\n",
       "            border: 1px solid #ccc;\n",
       "            padding: 15px;\n",
       "            margin: 10px;\n",
       "            border-radius: 5px;\n",
       "            background-color: #fff;\n",
       "        }\n",
       "        .title {\n",
       "            font-size: 1.5em;\n",
       "            color: #0056b3;\n",
       "        }\n",
       "        .author {\n",
       "            font-style: italic;\n",
       "            color: #555;\n",
       "        }\n",
       "        .price {\n",
       "            color: #d9534f;\n",
       "            font-weight: bold;\n",
       "        }\n",
       "        .description {\n",
       "            margin-top: 10px;\n",
       "        }\n",
       "        a {\n",
       "            color: #007bff;\n",
       "            text-decoration: none;\n",
       "        }\n",
       "        a:hover {\n",
       "            text-decoration: underline;\n",
       "        }\n",
       "    </style>\n",
       "</head>\n",
       "<body>\n",
       "<h1>Books List</h1>\n",
       "<div class=\"book\">\n",
       "<p class=\"title\">\n",
       "<b>The Great Gatsby</b>\n",
       "</p>\n",
       "<p class=\"author\">Author: F. Scott Fitzgerald</p>\n",
       "<p class=\"price\">Price: $10.99</p>\n",
       "<p class=\"publication-year\">Publication Year: 1925</p>\n",
       "<p class=\"genre\">Genre: Fiction</p>\n",
       "<p class=\"description\">\n",
       "            A novel about the American dream, set in the 1920s on Long Island.\n",
       "        </p>\n",
       "<p>More Info: <a class=\"info-link\" href=\"http://example.com/gatsby\" id=\"link1\">Learn More</a></p>\n",
       "</div>\n",
       "<div class=\"book\">\n",
       "<p class=\"title\">\n",
       "<b>1984</b>\n",
       "</p>\n",
       "<p class=\"author\">Author: George Orwell</p>\n",
       "<p class=\"price\">Price: $8.99</p>\n",
       "<p class=\"publication-year\">Publication Year: 1949</p>\n",
       "<p class=\"genre\">Genre: Dystopian</p>\n",
       "<p class=\"description\">\n",
       "            A story about a totalitarian regime that uses surveillance and propaganda to control its citizens.\n",
       "        </p>\n",
       "<p>More Info: <a class=\"info-link\" href=\"http://example.com/1984\" id=\"link2\">Learn More</a></p>\n",
       "</div>\n",
       "<div class=\"book\">\n",
       "<p class=\"title\">\n",
       "<b>To Kill a Mockingbird</b>\n",
       "</p>\n",
       "<p class=\"author\">Author: Harper Lee</p>\n",
       "<p class=\"price\">Price: $7.99</p>\n",
       "<p class=\"publication-year\">Publication Year: 1960</p>\n",
       "<p class=\"genre\">Genre: Fiction</p>\n",
       "<p class=\"description\">\n",
       "            A novel set in the Great Depression that addresses serious issues of race and injustice.\n",
       "        </p>\n",
       "<p>More Info: <a class=\"info-link\" href=\"http://example.com/mockingbird\" id=\"link3\">Learn More</a></p>\n",
       "</div>\n",
       "</body>\n",
       "</html>"
      ]
     },
     "execution_count": 5,
     "metadata": {},
     "output_type": "execute_result"
    }
   ],
   "source": [
    "# Parse the HTML content with Beautiful Soup\n",
    "soup = BeautifulSoup(html_doc, 'html.parser')\n",
    "soup"
   ]
  },
  {
   "cell_type": "code",
   "execution_count": 6,
   "id": "d1920429-c3fe-44b1-abfc-012840dca8fc",
   "metadata": {},
   "outputs": [
    {
     "name": "stdout",
     "output_type": "stream",
     "text": [
      "<!DOCTYPE html>\n",
      "<html lang=\"en\">\n",
      " <head>\n",
      "  <meta charset=\"utf-8\"/>\n",
      "  <meta content=\"width=device-width, initial-scale=1.0\" name=\"viewport\"/>\n",
      "  <title>\n",
      "   Sample Books Data\n",
      "  </title>\n",
      "  <style>\n",
      "   body {\n",
      "            font-family: Arial, sans-serif;\n",
      "            margin: 20px;\n",
      "            background-color: #f8f8f8;\n",
      "        }\n",
      "        h1 {\n",
      "            text-align: center;\n",
      "            color: #333;\n",
      "        }\n",
      "        .book {\n",
      "            border: 1px solid #ccc;\n",
      "            padding: 15px;\n",
      "            margin: 10px;\n",
      "            border-radius: 5px;\n",
      "            background-color: #fff;\n",
      "        }\n",
      "        .title {\n",
      "            font-size: 1.5em;\n",
      "            color: #0056b3;\n",
      "        }\n",
      "        .author {\n",
      "            font-style: italic;\n",
      "            color: #555;\n",
      "        }\n",
      "        .price {\n",
      "            color: #d9534f;\n",
      "            font-weight: bold;\n",
      "        }\n",
      "        .description {\n",
      "            margin-top: 10px;\n",
      "        }\n",
      "        a {\n",
      "            color: #007bff;\n",
      "            text-decoration: none;\n",
      "        }\n",
      "        a:hover {\n",
      "            text-decoration: underline;\n",
      "        }\n",
      "  </style>\n",
      " </head>\n",
      " <body>\n",
      "  <h1>\n",
      "   Books List\n",
      "  </h1>\n",
      "  <div class=\"book\">\n",
      "   <p class=\"title\">\n",
      "    <b>\n",
      "     The Great Gatsby\n",
      "    </b>\n",
      "   </p>\n",
      "   <p class=\"author\">\n",
      "    Author: F. Scott Fitzgerald\n",
      "   </p>\n",
      "   <p class=\"price\">\n",
      "    Price: $10.99\n",
      "   </p>\n",
      "   <p class=\"publication-year\">\n",
      "    Publication Year: 1925\n",
      "   </p>\n",
      "   <p class=\"genre\">\n",
      "    Genre: Fiction\n",
      "   </p>\n",
      "   <p class=\"description\">\n",
      "    A novel about the American dream, set in the 1920s on Long Island.\n",
      "   </p>\n",
      "   <p>\n",
      "    More Info:\n",
      "    <a class=\"info-link\" href=\"http://example.com/gatsby\" id=\"link1\">\n",
      "     Learn More\n",
      "    </a>\n",
      "   </p>\n",
      "  </div>\n",
      "  <div class=\"book\">\n",
      "   <p class=\"title\">\n",
      "    <b>\n",
      "     1984\n",
      "    </b>\n",
      "   </p>\n",
      "   <p class=\"author\">\n",
      "    Author: George Orwell\n",
      "   </p>\n",
      "   <p class=\"price\">\n",
      "    Price: $8.99\n",
      "   </p>\n",
      "   <p class=\"publication-year\">\n",
      "    Publication Year: 1949\n",
      "   </p>\n",
      "   <p class=\"genre\">\n",
      "    Genre: Dystopian\n",
      "   </p>\n",
      "   <p class=\"description\">\n",
      "    A story about a totalitarian regime that uses surveillance and propaganda to control its citizens.\n",
      "   </p>\n",
      "   <p>\n",
      "    More Info:\n",
      "    <a class=\"info-link\" href=\"http://example.com/1984\" id=\"link2\">\n",
      "     Learn More\n",
      "    </a>\n",
      "   </p>\n",
      "  </div>\n",
      "  <div class=\"book\">\n",
      "   <p class=\"title\">\n",
      "    <b>\n",
      "     To Kill a Mockingbird\n",
      "    </b>\n",
      "   </p>\n",
      "   <p class=\"author\">\n",
      "    Author: Harper Lee\n",
      "   </p>\n",
      "   <p class=\"price\">\n",
      "    Price: $7.99\n",
      "   </p>\n",
      "   <p class=\"publication-year\">\n",
      "    Publication Year: 1960\n",
      "   </p>\n",
      "   <p class=\"genre\">\n",
      "    Genre: Fiction\n",
      "   </p>\n",
      "   <p class=\"description\">\n",
      "    A novel set in the Great Depression that addresses serious issues of race and injustice.\n",
      "   </p>\n",
      "   <p>\n",
      "    More Info:\n",
      "    <a class=\"info-link\" href=\"http://example.com/mockingbird\" id=\"link3\">\n",
      "     Learn More\n",
      "    </a>\n",
      "   </p>\n",
      "  </div>\n",
      " </body>\n",
      "</html>\n",
      "\n"
     ]
    }
   ],
   "source": [
    "\n",
    "print(soup.prettify())"
   ]
  },
  {
   "cell_type": "code",
   "execution_count": 7,
   "id": "4bd83fe8-0221-46d5-980c-bed2bdf6ed71",
   "metadata": {},
   "outputs": [
    {
     "data": {
      "text/plain": [
       "[<div class=\"book\">\n",
       " <p class=\"title\">\n",
       " <b>The Great Gatsby</b>\n",
       " </p>\n",
       " <p class=\"author\">Author: F. Scott Fitzgerald</p>\n",
       " <p class=\"price\">Price: $10.99</p>\n",
       " <p class=\"publication-year\">Publication Year: 1925</p>\n",
       " <p class=\"genre\">Genre: Fiction</p>\n",
       " <p class=\"description\">\n",
       "             A novel about the American dream, set in the 1920s on Long Island.\n",
       "         </p>\n",
       " <p>More Info: <a class=\"info-link\" href=\"http://example.com/gatsby\" id=\"link1\">Learn More</a></p>\n",
       " </div>,\n",
       " <div class=\"book\">\n",
       " <p class=\"title\">\n",
       " <b>1984</b>\n",
       " </p>\n",
       " <p class=\"author\">Author: George Orwell</p>\n",
       " <p class=\"price\">Price: $8.99</p>\n",
       " <p class=\"publication-year\">Publication Year: 1949</p>\n",
       " <p class=\"genre\">Genre: Dystopian</p>\n",
       " <p class=\"description\">\n",
       "             A story about a totalitarian regime that uses surveillance and propaganda to control its citizens.\n",
       "         </p>\n",
       " <p>More Info: <a class=\"info-link\" href=\"http://example.com/1984\" id=\"link2\">Learn More</a></p>\n",
       " </div>,\n",
       " <div class=\"book\">\n",
       " <p class=\"title\">\n",
       " <b>To Kill a Mockingbird</b>\n",
       " </p>\n",
       " <p class=\"author\">Author: Harper Lee</p>\n",
       " <p class=\"price\">Price: $7.99</p>\n",
       " <p class=\"publication-year\">Publication Year: 1960</p>\n",
       " <p class=\"genre\">Genre: Fiction</p>\n",
       " <p class=\"description\">\n",
       "             A novel set in the Great Depression that addresses serious issues of race and injustice.\n",
       "         </p>\n",
       " <p>More Info: <a class=\"info-link\" href=\"http://example.com/mockingbird\" id=\"link3\">Learn More</a></p>\n",
       " </div>]"
      ]
     },
     "execution_count": 7,
     "metadata": {},
     "output_type": "execute_result"
    }
   ],
   "source": [
    "books=soup.find_all('div', class_='book')\n",
    "books"
   ]
  },
  {
   "cell_type": "code",
   "execution_count": 8,
   "id": "909a4091-01c9-40c8-9df8-4d9f373e71c2",
   "metadata": {},
   "outputs": [
    {
     "data": {
      "text/plain": [
       "3"
      ]
     },
     "execution_count": 8,
     "metadata": {},
     "output_type": "execute_result"
    }
   ],
   "source": [
    "len(books)"
   ]
  },
  {
   "cell_type": "code",
   "execution_count": 9,
   "id": "1ee0fb9b-feaa-47dd-b536-3079ae865e20",
   "metadata": {},
   "outputs": [],
   "source": [
    "book_data = []"
   ]
  },
  {
   "cell_type": "code",
   "execution_count": 10,
   "id": "8efdcfbf-1d2a-4d30-abda-385dc7db27c0",
   "metadata": {},
   "outputs": [
    {
     "data": {
      "text/plain": [
       "'To Kill a Mockingbird'"
      ]
     },
     "execution_count": 10,
     "metadata": {},
     "output_type": "execute_result"
    }
   ],
   "source": [
    "for book in books:\n",
    "    title = book.find('p',class_='title').get_text(strip=True)\n",
    "title"
   ]
  },
  {
   "cell_type": "code",
   "execution_count": 11,
   "id": "55154a4e-200c-4c39-b778-6df415b98bf7",
   "metadata": {},
   "outputs": [
    {
     "data": {
      "text/plain": [
       "'Author: Harper Lee'"
      ]
     },
     "execution_count": 11,
     "metadata": {},
     "output_type": "execute_result"
    }
   ],
   "source": [
    "for book in books:\n",
    "    title = book.find('p',class_='title').get_text(strip=True)\n",
    "    author = book.find('p',class_='author').get_text(strip=True)\n",
    "author"
   ]
  },
  {
   "cell_type": "code",
   "execution_count": 12,
   "id": "97132547-dced-490b-b8b8-21d293477fae",
   "metadata": {},
   "outputs": [
    {
     "data": {
      "text/plain": [
       "'Genre: Fiction'"
      ]
     },
     "execution_count": 12,
     "metadata": {},
     "output_type": "execute_result"
    }
   ],
   "source": [
    "for book in books:\n",
    "    title = book.find('p',class_='title').get_text(strip=True)\n",
    "    author = book.find('p',class_='author').get_text(strip=True)\n",
    "    price = book.find('p',class_='price').get_text(strip=True)\n",
    "    publication_year=book.find('p',class_='publication-year').get_text(strip=True)\n",
    "    genre = book.find('p', class_='genre').get_text(strip=True)\n",
    "    description = book.find('p',class_='description').get_text(strip=True)\n",
    "genre"
   ]
  },
  {
   "cell_type": "code",
   "execution_count": 13,
   "id": "b9e3cb25-d940-4270-8d0c-31e5ba6b14ae",
   "metadata": {},
   "outputs": [],
   "source": [
    "for book in books:\n",
    "    title = book.find('p',class_='title').get_text(strip=True)\n",
    "    author = book.find('p',class_='author').get_text(strip=True)\n",
    "    price = book.find('p',class_='price').get_text(strip=True)\n",
    "    publication_year=book.find('p',class_='publication-year').get_text(strip=True)\n",
    "    genre = book.find('p', class_='genre').get_text(strip=True)\n",
    "    description = book.find('p',class_='description').get_text(strip=True)\n",
    "    book_data.append({\n",
    "        'Title': title,\n",
    "        'Author': author,\n",
    "        'Price': price,\n",
    "        'Publication-year': publication_year,\n",
    "        'Genre': genre,\n",
    "        'Description': description,\n",
    "    })"
   ]
  },
  {
   "cell_type": "code",
   "execution_count": 14,
   "id": "b3f7cac3-5994-483d-9c2f-dc0c49650093",
   "metadata": {},
   "outputs": [
    {
     "data": {
      "text/plain": [
       "[{'Title': 'The Great Gatsby',\n",
       "  'Author': 'Author: F. Scott Fitzgerald',\n",
       "  'Price': 'Price: $10.99',\n",
       "  'Publication-year': 'Publication Year: 1925',\n",
       "  'Genre': 'Genre: Fiction',\n",
       "  'Description': 'A novel about the American dream, set in the 1920s on Long Island.'},\n",
       " {'Title': '1984',\n",
       "  'Author': 'Author: George Orwell',\n",
       "  'Price': 'Price: $8.99',\n",
       "  'Publication-year': 'Publication Year: 1949',\n",
       "  'Genre': 'Genre: Dystopian',\n",
       "  'Description': 'A story about a totalitarian regime that uses surveillance and propaganda to control its citizens.'},\n",
       " {'Title': 'To Kill a Mockingbird',\n",
       "  'Author': 'Author: Harper Lee',\n",
       "  'Price': 'Price: $7.99',\n",
       "  'Publication-year': 'Publication Year: 1960',\n",
       "  'Genre': 'Genre: Fiction',\n",
       "  'Description': 'A novel set in the Great Depression that addresses serious issues of race and injustice.'}]"
      ]
     },
     "execution_count": 14,
     "metadata": {},
     "output_type": "execute_result"
    }
   ],
   "source": [
    "book_data"
   ]
  },
  {
   "cell_type": "code",
   "execution_count": 17,
   "id": "5ab4065a-7aa4-4b9b-9b25-8a091b4f65d4",
   "metadata": {},
   "outputs": [],
   "source": [
    "df = pd.DataFrame(book_data)"
   ]
  },
  {
   "cell_type": "code",
   "execution_count": 20,
   "id": "77901d78-b9e9-4746-a6d0-de5632cbd099",
   "metadata": {},
   "outputs": [
    {
     "ename": "ModuleNotFoundError",
     "evalue": "No module named 'openpyxl'",
     "output_type": "error",
     "traceback": [
      "\u001b[31m---------------------------------------------------------------------------\u001b[39m",
      "\u001b[31mModuleNotFoundError\u001b[39m                       Traceback (most recent call last)",
      "\u001b[36mCell\u001b[39m\u001b[36m \u001b[39m\u001b[32mIn[20]\u001b[39m\u001b[32m, line 3\u001b[39m\n\u001b[32m      1\u001b[39m \u001b[38;5;66;03m# Saving or Storing\u001b[39;00m\n\u001b[32m      2\u001b[39m df.to_csv(\u001b[33m\"\u001b[39m\u001b[33mweb_ex.csv\u001b[39m\u001b[33m\"\u001b[39m,index=\u001b[38;5;28;01mFalse\u001b[39;00m)\n\u001b[32m----> \u001b[39m\u001b[32m3\u001b[39m \u001b[43mdf\u001b[49m\u001b[43m.\u001b[49m\u001b[43mto_excel\u001b[49m\u001b[43m(\u001b[49m\u001b[33;43m\"\u001b[39;49m\u001b[33;43mweb_ex.xlsx\u001b[39;49m\u001b[33;43m\"\u001b[39;49m\u001b[43m)\u001b[49m\n",
      "\u001b[36mFile \u001b[39m\u001b[32m~\\trainee\\Lib\\site-packages\\pandas\\util\\_decorators.py:333\u001b[39m, in \u001b[36mdeprecate_nonkeyword_arguments.<locals>.decorate.<locals>.wrapper\u001b[39m\u001b[34m(*args, **kwargs)\u001b[39m\n\u001b[32m    327\u001b[39m \u001b[38;5;28;01mif\u001b[39;00m \u001b[38;5;28mlen\u001b[39m(args) > num_allow_args:\n\u001b[32m    328\u001b[39m     warnings.warn(\n\u001b[32m    329\u001b[39m         msg.format(arguments=_format_argument_list(allow_args)),\n\u001b[32m    330\u001b[39m         \u001b[38;5;167;01mFutureWarning\u001b[39;00m,\n\u001b[32m    331\u001b[39m         stacklevel=find_stack_level(),\n\u001b[32m    332\u001b[39m     )\n\u001b[32m--> \u001b[39m\u001b[32m333\u001b[39m \u001b[38;5;28;01mreturn\u001b[39;00m \u001b[43mfunc\u001b[49m\u001b[43m(\u001b[49m\u001b[43m*\u001b[49m\u001b[43margs\u001b[49m\u001b[43m,\u001b[49m\u001b[43m \u001b[49m\u001b[43m*\u001b[49m\u001b[43m*\u001b[49m\u001b[43mkwargs\u001b[49m\u001b[43m)\u001b[49m\n",
      "\u001b[36mFile \u001b[39m\u001b[32m~\\trainee\\Lib\\site-packages\\pandas\\core\\generic.py:2436\u001b[39m, in \u001b[36mNDFrame.to_excel\u001b[39m\u001b[34m(self, excel_writer, sheet_name, na_rep, float_format, columns, header, index, index_label, startrow, startcol, engine, merge_cells, inf_rep, freeze_panes, storage_options, engine_kwargs)\u001b[39m\n\u001b[32m   2423\u001b[39m \u001b[38;5;28;01mfrom\u001b[39;00m\u001b[38;5;250m \u001b[39m\u001b[34;01mpandas\u001b[39;00m\u001b[34;01m.\u001b[39;00m\u001b[34;01mio\u001b[39;00m\u001b[34;01m.\u001b[39;00m\u001b[34;01mformats\u001b[39;00m\u001b[34;01m.\u001b[39;00m\u001b[34;01mexcel\u001b[39;00m\u001b[38;5;250m \u001b[39m\u001b[38;5;28;01mimport\u001b[39;00m ExcelFormatter\n\u001b[32m   2425\u001b[39m formatter = ExcelFormatter(\n\u001b[32m   2426\u001b[39m     df,\n\u001b[32m   2427\u001b[39m     na_rep=na_rep,\n\u001b[32m   (...)\u001b[39m\u001b[32m   2434\u001b[39m     inf_rep=inf_rep,\n\u001b[32m   2435\u001b[39m )\n\u001b[32m-> \u001b[39m\u001b[32m2436\u001b[39m \u001b[43mformatter\u001b[49m\u001b[43m.\u001b[49m\u001b[43mwrite\u001b[49m\u001b[43m(\u001b[49m\n\u001b[32m   2437\u001b[39m \u001b[43m    \u001b[49m\u001b[43mexcel_writer\u001b[49m\u001b[43m,\u001b[49m\n\u001b[32m   2438\u001b[39m \u001b[43m    \u001b[49m\u001b[43msheet_name\u001b[49m\u001b[43m=\u001b[49m\u001b[43msheet_name\u001b[49m\u001b[43m,\u001b[49m\n\u001b[32m   2439\u001b[39m \u001b[43m    \u001b[49m\u001b[43mstartrow\u001b[49m\u001b[43m=\u001b[49m\u001b[43mstartrow\u001b[49m\u001b[43m,\u001b[49m\n\u001b[32m   2440\u001b[39m \u001b[43m    \u001b[49m\u001b[43mstartcol\u001b[49m\u001b[43m=\u001b[49m\u001b[43mstartcol\u001b[49m\u001b[43m,\u001b[49m\n\u001b[32m   2441\u001b[39m \u001b[43m    \u001b[49m\u001b[43mfreeze_panes\u001b[49m\u001b[43m=\u001b[49m\u001b[43mfreeze_panes\u001b[49m\u001b[43m,\u001b[49m\n\u001b[32m   2442\u001b[39m \u001b[43m    \u001b[49m\u001b[43mengine\u001b[49m\u001b[43m=\u001b[49m\u001b[43mengine\u001b[49m\u001b[43m,\u001b[49m\n\u001b[32m   2443\u001b[39m \u001b[43m    \u001b[49m\u001b[43mstorage_options\u001b[49m\u001b[43m=\u001b[49m\u001b[43mstorage_options\u001b[49m\u001b[43m,\u001b[49m\n\u001b[32m   2444\u001b[39m \u001b[43m    \u001b[49m\u001b[43mengine_kwargs\u001b[49m\u001b[43m=\u001b[49m\u001b[43mengine_kwargs\u001b[49m\u001b[43m,\u001b[49m\n\u001b[32m   2445\u001b[39m \u001b[43m\u001b[49m\u001b[43m)\u001b[49m\n",
      "\u001b[36mFile \u001b[39m\u001b[32m~\\trainee\\Lib\\site-packages\\pandas\\io\\formats\\excel.py:943\u001b[39m, in \u001b[36mExcelFormatter.write\u001b[39m\u001b[34m(self, writer, sheet_name, startrow, startcol, freeze_panes, engine, storage_options, engine_kwargs)\u001b[39m\n\u001b[32m    941\u001b[39m     need_save = \u001b[38;5;28;01mFalse\u001b[39;00m\n\u001b[32m    942\u001b[39m \u001b[38;5;28;01melse\u001b[39;00m:\n\u001b[32m--> \u001b[39m\u001b[32m943\u001b[39m     writer = \u001b[43mExcelWriter\u001b[49m\u001b[43m(\u001b[49m\n\u001b[32m    944\u001b[39m \u001b[43m        \u001b[49m\u001b[43mwriter\u001b[49m\u001b[43m,\u001b[49m\n\u001b[32m    945\u001b[39m \u001b[43m        \u001b[49m\u001b[43mengine\u001b[49m\u001b[43m=\u001b[49m\u001b[43mengine\u001b[49m\u001b[43m,\u001b[49m\n\u001b[32m    946\u001b[39m \u001b[43m        \u001b[49m\u001b[43mstorage_options\u001b[49m\u001b[43m=\u001b[49m\u001b[43mstorage_options\u001b[49m\u001b[43m,\u001b[49m\n\u001b[32m    947\u001b[39m \u001b[43m        \u001b[49m\u001b[43mengine_kwargs\u001b[49m\u001b[43m=\u001b[49m\u001b[43mengine_kwargs\u001b[49m\u001b[43m,\u001b[49m\n\u001b[32m    948\u001b[39m \u001b[43m    \u001b[49m\u001b[43m)\u001b[49m\n\u001b[32m    949\u001b[39m     need_save = \u001b[38;5;28;01mTrue\u001b[39;00m\n\u001b[32m    951\u001b[39m \u001b[38;5;28;01mtry\u001b[39;00m:\n",
      "\u001b[36mFile \u001b[39m\u001b[32m~\\trainee\\Lib\\site-packages\\pandas\\io\\excel\\_openpyxl.py:57\u001b[39m, in \u001b[36mOpenpyxlWriter.__init__\u001b[39m\u001b[34m(self, path, engine, date_format, datetime_format, mode, storage_options, if_sheet_exists, engine_kwargs, **kwargs)\u001b[39m\n\u001b[32m     44\u001b[39m \u001b[38;5;28;01mdef\u001b[39;00m\u001b[38;5;250m \u001b[39m\u001b[34m__init__\u001b[39m(\n\u001b[32m     45\u001b[39m     \u001b[38;5;28mself\u001b[39m,\n\u001b[32m     46\u001b[39m     path: FilePath | WriteExcelBuffer | ExcelWriter,\n\u001b[32m   (...)\u001b[39m\u001b[32m     55\u001b[39m ) -> \u001b[38;5;28;01mNone\u001b[39;00m:\n\u001b[32m     56\u001b[39m     \u001b[38;5;66;03m# Use the openpyxl module as the Excel writer.\u001b[39;00m\n\u001b[32m---> \u001b[39m\u001b[32m57\u001b[39m     \u001b[38;5;28;01mfrom\u001b[39;00m\u001b[38;5;250m \u001b[39m\u001b[34;01mopenpyxl\u001b[39;00m\u001b[34;01m.\u001b[39;00m\u001b[34;01mworkbook\u001b[39;00m\u001b[38;5;250m \u001b[39m\u001b[38;5;28;01mimport\u001b[39;00m Workbook\n\u001b[32m     59\u001b[39m     engine_kwargs = combine_kwargs(engine_kwargs, kwargs)\n\u001b[32m     61\u001b[39m     \u001b[38;5;28msuper\u001b[39m().\u001b[34m__init__\u001b[39m(\n\u001b[32m     62\u001b[39m         path,\n\u001b[32m     63\u001b[39m         mode=mode,\n\u001b[32m   (...)\u001b[39m\u001b[32m     66\u001b[39m         engine_kwargs=engine_kwargs,\n\u001b[32m     67\u001b[39m     )\n",
      "\u001b[31mModuleNotFoundError\u001b[39m: No module named 'openpyxl'"
     ]
    }
   ],
   "source": [
    "# Saving or Storing\n",
    "df.to_csv(\"web_ex.csv\",index=False)\n",
    "df.to_excel(\"web_ex.xlsx\")\n"
   ]
  },
  {
   "cell_type": "code",
   "execution_count": null,
   "id": "45547db1-8a38-4ad3-a778-a3d91e117c9c",
   "metadata": {},
   "outputs": [],
   "source": []
  }
 ],
 "metadata": {
  "kernelspec": {
   "display_name": "trainee",
   "language": "python",
   "name": "trainee"
  },
  "language_info": {
   "codemirror_mode": {
    "name": "ipython",
    "version": 3
   },
   "file_extension": ".py",
   "mimetype": "text/x-python",
   "name": "python",
   "nbconvert_exporter": "python",
   "pygments_lexer": "ipython3",
   "version": "3.13.2"
  }
 },
 "nbformat": 4,
 "nbformat_minor": 5
}
